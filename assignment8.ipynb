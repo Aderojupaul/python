{
 "cells": [
  {
   "cell_type": "code",
   "execution_count": 4,
   "id": "3a970226",
   "metadata": {},
   "outputs": [],
   "source": [
    "class bikesimulation:\n",
    "    def __init__ (self,brand,model,color,year,speed):\n",
    "        self.brand = brand\n",
    "        self.model = model\n",
    "        self.color = color\n",
    "        self.year = year\n",
    "        self.speed = speed\n",
    "    def start(self):\n",
    "        print(f'{self.brand} {self.model} has started')\n",
    "    def changegear(self):\n",
    "        gearoption = input('Choose gear option: ')\n",
    "        if gearoption == '1':\n",
    "            print('Gear placed on 1')\n",
    "        elif gearoption == '2':\n",
    "            print('Gear placed on 2')\n",
    "        elif gearoption == '3':\n",
    "            print('Gear placed on 3')\n",
    "        elif gearoption == '4':\n",
    "            print('Gear placed on 4')\n",
    "        elif gearoption == '5':\n",
    "            print('Gear placed on 5')\n",
    "        elif gearoption == 'R':\n",
    "            print('Gear placed on reversed')\n",
    "    def accelerate(self,option):\n",
    "        if option == 1:\n",
    "            print('Nitro Engaged')\n",
    "        elif option == 2:\n",
    "            print('Nitro Disengaged')\n",
    "        else:\n",
    "            print('Invalid Nitro option')\n",
    "    def stop(self):\n",
    "            print(f'{self.brand} {self.model} has stopped, GAME OVER!!!!!!!!')\n",
    "    "
   ]
  },
  {
   "cell_type": "code",
   "execution_count": 5,
   "id": "56557f29",
   "metadata": {},
   "outputs": [],
   "source": [
    "bike = bikesimulation('Cannondale','AA','Yellow',2022,350)\n"
   ]
  },
  {
   "cell_type": "code",
   "execution_count": 6,
   "id": "30a13fe9",
   "metadata": {},
   "outputs": [
    {
     "name": "stdout",
     "output_type": "stream",
     "text": [
      "Cannondale AA has started\n"
     ]
    }
   ],
   "source": [
    "bike.start()"
   ]
  },
  {
   "cell_type": "code",
   "execution_count": 8,
   "id": "f828a78b",
   "metadata": {},
   "outputs": [
    {
     "name": "stdout",
     "output_type": "stream",
     "text": [
      "Nitro Engaged\n"
     ]
    }
   ],
   "source": [
    "bike.accelerate(1)"
   ]
  },
  {
   "cell_type": "code",
   "execution_count": 10,
   "id": "7b48df71",
   "metadata": {},
   "outputs": [
    {
     "name": "stdout",
     "output_type": "stream",
     "text": [
      "Choose gear option: 2\n",
      "Gear placed on 2\n"
     ]
    }
   ],
   "source": [
    "bike.changegear()"
   ]
  },
  {
   "cell_type": "code",
   "execution_count": 12,
   "id": "c6780255",
   "metadata": {},
   "outputs": [
    {
     "name": "stdout",
     "output_type": "stream",
     "text": [
      "Cannondale AA has stopped, GAME OVER!!!!!!!!\n"
     ]
    }
   ],
   "source": [
    "bike.stop()"
   ]
  },
  {
   "cell_type": "code",
   "execution_count": null,
   "id": "21b91bb8",
   "metadata": {},
   "outputs": [],
   "source": []
  }
 ],
 "metadata": {
  "kernelspec": {
   "display_name": "Python 3 (ipykernel)",
   "language": "python",
   "name": "python3"
  },
  "language_info": {
   "codemirror_mode": {
    "name": "ipython",
    "version": 3
   },
   "file_extension": ".py",
   "mimetype": "text/x-python",
   "name": "python",
   "nbconvert_exporter": "python",
   "pygments_lexer": "ipython3",
   "version": "3.9.12"
  }
 },
 "nbformat": 4,
 "nbformat_minor": 5
}
