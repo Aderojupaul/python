{
 "cells": [
  {
   "cell_type": "code",
   "execution_count": null,
   "id": "d11fb4fe",
   "metadata": {},
   "outputs": [],
   "source": [
    "###### Tuple\n",
    "## Tuple is unchangeable\n",
    "## Tuple must be ordered\n",
    "## We use the index location to access any value from the tuple\n",
    "## We denote tuple with ()"
   ]
  },
  {
   "cell_type": "code",
   "execution_count": 1,
   "id": "83323d2d",
   "metadata": {},
   "outputs": [
    {
     "name": "stdout",
     "output_type": "stream",
     "text": [
      "<class 'tuple'>\n"
     ]
    }
   ],
   "source": [
    "numbers = (8,45,7,9,8,20,21,25,36,8,45,80,52)\n",
    "print(type(numbers))"
   ]
  },
  {
   "cell_type": "code",
   "execution_count": 2,
   "id": "46cc6bf3",
   "metadata": {},
   "outputs": [
    {
     "name": "stdout",
     "output_type": "stream",
     "text": [
      "13\n"
     ]
    }
   ],
   "source": [
    "print(len(numbers))"
   ]
  },
  {
   "cell_type": "code",
   "execution_count": 3,
   "id": "be7a2054",
   "metadata": {},
   "outputs": [
    {
     "name": "stdout",
     "output_type": "stream",
     "text": [
      "8\n"
     ]
    }
   ],
   "source": [
    "print(numbers[0]) #ACCESSING THE FIRST VALUE OF OUR TUPLE USING IT'S INDEX LOCATION"
   ]
  },
  {
   "cell_type": "code",
   "execution_count": 4,
   "id": "1551cd50",
   "metadata": {},
   "outputs": [
    {
     "name": "stdout",
     "output_type": "stream",
     "text": [
      "21\n"
     ]
    }
   ],
   "source": [
    "print(numbers[6]) #ACCESSING THE VALUE ON THE SIXTH LOCATION OF OUR TUPLE USING IT'S INDEX LOCATION"
   ]
  },
  {
   "cell_type": "code",
   "execution_count": 5,
   "id": "16ec84f2",
   "metadata": {},
   "outputs": [
    {
     "name": "stdout",
     "output_type": "stream",
     "text": [
      "52\n"
     ]
    }
   ],
   "source": [
    "print(numbers[-1]) #ACCESSING THE LAST VALUE OF OUR TUPLE USING IT'S INDEX LOCATION"
   ]
  },
  {
   "cell_type": "code",
   "execution_count": 6,
   "id": "2c02605b",
   "metadata": {},
   "outputs": [
    {
     "name": "stdout",
     "output_type": "stream",
     "text": [
      "(9, 8, 20, 21, 25)\n"
     ]
    }
   ],
   "source": [
    "print(numbers[3:8]) #ACCESING RANGE OF VALUE OF OUR TUPLE USING IT'S INDEX LOCATION"
   ]
  },
  {
   "cell_type": "code",
   "execution_count": 7,
   "id": "d32d78b5",
   "metadata": {},
   "outputs": [
    {
     "name": "stdout",
     "output_type": "stream",
     "text": [
      "3\n"
     ]
    }
   ],
   "source": [
    "print(numbers.count(8)) #RETRIVING THE FREQUENCY RATE OF A VALUE"
   ]
  },
  {
   "cell_type": "code",
   "execution_count": 8,
   "id": "d481012f",
   "metadata": {},
   "outputs": [
    {
     "name": "stdout",
     "output_type": "stream",
     "text": [
      "11\n"
     ]
    }
   ],
   "source": [
    "print(numbers.index(80)) #CHECKING THE INDEX VALUE OF A LOCATION"
   ]
  },
  {
   "cell_type": "code",
   "execution_count": 9,
   "id": "96153efd",
   "metadata": {},
   "outputs": [
    {
     "name": "stdout",
     "output_type": "stream",
     "text": [
      "False\n"
     ]
    }
   ],
   "source": [
    "print(50 in numbers) #CHECKING IF A VALUE EXIST IN OUR ITERABLE OBJECT"
   ]
  },
  {
   "cell_type": "markdown",
   "id": "217f5122",
   "metadata": {},
   "source": [
    "# List\n",
    "## List is changeable\n",
    "## List can be ordered or unordered\n",
    "## We use the index location to access any value from the list\n",
    "## We denote tuple with []"
   ]
  },
  {
   "cell_type": "code",
   "execution_count": 18,
   "id": "7f8696a5",
   "metadata": {},
   "outputs": [],
   "source": [
    "fruits = ['Cherry','Lemon','Banana','Grape','Cashew']"
   ]
  },
  {
   "cell_type": "code",
   "execution_count": 19,
   "id": "b0a69cf3",
   "metadata": {},
   "outputs": [
    {
     "name": "stdout",
     "output_type": "stream",
     "text": [
      "['Cherry', 'Lemon', 'Banana', 'Grape', 'Cashew', 'Pear']\n"
     ]
    }
   ],
   "source": [
    "fruits.append('Pear') #Append will add the specified value to the end of the list\n",
    "print(fruits)"
   ]
  },
  {
   "cell_type": "code",
   "execution_count": 21,
   "id": "0591a5fb",
   "metadata": {},
   "outputs": [
    {
     "name": "stdout",
     "output_type": "stream",
     "text": [
      "['Cherry', 'Lemon', 'Banana', 'Grape', 'Cashew', 'Pear', 'Apple', 'Grape', 'Melon', 'Pawpaw', 'Coconut', 'Apple', 'Grape', 'Melon', 'Pawpaw', 'Coconut']\n"
     ]
    }
   ],
   "source": [
    "new_list = ['Apple','Grape','Melon','Pawpaw','Coconut']\n",
    "fruits.extend(new_list) #Extend will move all the value from one list or tuple to another list\n",
    "print(fruits)"
   ]
  },
  {
   "cell_type": "code",
   "execution_count": 30,
   "id": "0f67c23e",
   "metadata": {},
   "outputs": [
    {
     "name": "stdout",
     "output_type": "stream",
     "text": [
      "['Pawpaw', 'Pawpaw', 'Pawpaw', 'Melon', 'Pear', 'Melon', 'Lemon', 'Grape', 'Coconut', 'Coconut', 'Cherry', 'Banana', 'Apple', 'Apple']\n"
     ]
    }
   ],
   "source": [
    "fruits.insert(4,'Pear')#Insert will add the new value at the specified location\n",
    "print(fruits)"
   ]
  },
  {
   "cell_type": "code",
   "execution_count": 35,
   "id": "343ea535",
   "metadata": {},
   "outputs": [
    {
     "name": "stdout",
     "output_type": "stream",
     "text": [
      "['Pear', 'Pawpaw', 'Pawpaw', 'Pawpaw', 'Melon', 'Lemon', 'Coconut', 'Coconut', 'Cherry', 'Banana', 'Apple', 'Apple']\n"
     ]
    }
   ],
   "source": [
    "fruits.pop(5) #Pop will remove the value on the specified loaction\n",
    "print(fruits)"
   ]
  },
  {
   "cell_type": "code",
   "execution_count": 34,
   "id": "8299866b",
   "metadata": {
    "scrolled": true
   },
   "outputs": [
    {
     "name": "stdout",
     "output_type": "stream",
     "text": [
      "['Pear', 'Pawpaw', 'Pawpaw', 'Pawpaw', 'Melon', 'Melon', 'Lemon', 'Coconut', 'Coconut', 'Cherry', 'Banana', 'Apple', 'Apple']\n"
     ]
    }
   ],
   "source": [
    "fruits.remove('Grape') #Remove will drop the value you specified\n",
    "print(fruits)"
   ]
  },
  {
   "cell_type": "code",
   "execution_count": 31,
   "id": "5ceab594",
   "metadata": {},
   "outputs": [
    {
     "name": "stdout",
     "output_type": "stream",
     "text": [
      "['Apple', 'Apple', 'Banana', 'Cherry', 'Coconut', 'Coconut', 'Grape', 'Lemon', 'Melon', 'Melon', 'Pawpaw', 'Pawpaw', 'Pawpaw', 'Pear']\n"
     ]
    }
   ],
   "source": [
    "fruits.sort() #Sort will rearrange the value in acesending order \n",
    "print(fruits)"
   ]
  },
  {
   "cell_type": "code",
   "execution_count": 32,
   "id": "6ea4fceb",
   "metadata": {},
   "outputs": [
    {
     "name": "stdout",
     "output_type": "stream",
     "text": [
      "['Pear', 'Pawpaw', 'Pawpaw', 'Pawpaw', 'Melon', 'Melon', 'Lemon', 'Grape', 'Coconut', 'Coconut', 'Cherry', 'Banana', 'Apple', 'Apple']\n"
     ]
    }
   ],
   "source": [
    "fruits.reverse() #Reverse will rearrange the value in desecending order \n",
    "print(fruits)"
   ]
  },
  {
   "cell_type": "code",
   "execution_count": 33,
   "id": "dd25e29e",
   "metadata": {},
   "outputs": [
    {
     "name": "stdout",
     "output_type": "stream",
     "text": [
      "['Pear', 'Pawpaw', 'Pawpaw', 'Pawpaw', 'Melon', 'Melon', 'Lemon', 'Grape', 'Coconut', 'Coconut', 'Cherry', 'Banana', 'Apple', 'Apple']\n"
     ]
    }
   ],
   "source": [
    "copied_list = fruits.copy() #Copy will make a duplicate of the specified list\n",
    "print(copied_list)"
   ]
  },
  {
   "cell_type": "code",
   "execution_count": 37,
   "id": "c4101aaf",
   "metadata": {},
   "outputs": [
    {
     "name": "stdout",
     "output_type": "stream",
     "text": [
      "[]\n"
     ]
    }
   ],
   "source": [
    "copied_list.clear() #Clear will remove all the value in the specified list\n",
    "print(copied_list)"
   ]
  },
  {
   "cell_type": "code",
   "execution_count": 38,
   "id": "4652742f",
   "metadata": {},
   "outputs": [
    {
     "ename": "NameError",
     "evalue": "name 'copied_list' is not defined",
     "output_type": "error",
     "traceback": [
      "\u001b[1;31m---------------------------------------------------------------------------\u001b[0m",
      "\u001b[1;31mNameError\u001b[0m                                 Traceback (most recent call last)",
      "Input \u001b[1;32mIn [38]\u001b[0m, in \u001b[0;36m<cell line: 2>\u001b[1;34m()\u001b[0m\n\u001b[0;32m      1\u001b[0m \u001b[38;5;28;01mdel\u001b[39;00m(copied_list)\n\u001b[1;32m----> 2\u001b[0m \u001b[38;5;28mprint\u001b[39m(\u001b[43mcopied_list\u001b[49m)\n",
      "\u001b[1;31mNameError\u001b[0m: name 'copied_list' is not defined"
     ]
    }
   ],
   "source": [
    "del(copied_list)\n",
    "print(copied_list)"
   ]
  },
  {
   "cell_type": "code",
   "execution_count": null,
   "id": "e75840e6",
   "metadata": {},
   "outputs": [],
   "source": [
    "#Dictionary\n",
    "##Dictionary is changeable\n",
    "##Dictionary can be ordered or unordered\n",
    "##We use the key to access any value from the Dictionary \n",
    "##We denote Dictionary with {}"
   ]
  },
  {
   "cell_type": "code",
   "execution_count": 41,
   "id": "8d727f79",
   "metadata": {},
   "outputs": [
    {
     "name": "stdout",
     "output_type": "stream",
     "text": [
      "50\n"
     ]
    }
   ],
   "source": [
    "records = {'Name':'Ade',\n",
    "          'Gender':'Male',\n",
    "          'Age':'50',\n",
    "          'Height':'1.90',\n",
    "          'Weight':'78'}\n",
    "print(records['Age'])"
   ]
  },
  {
   "cell_type": "code",
   "execution_count": 43,
   "id": "754854f3",
   "metadata": {},
   "outputs": [
    {
     "name": "stdout",
     "output_type": "stream",
     "text": [
      "dict_keys(['Name', 'Gender', 'Age', 'Height', 'Weight'])\n"
     ]
    }
   ],
   "source": [
    "print(records.keys())"
   ]
  },
  {
   "cell_type": "code",
   "execution_count": 45,
   "id": "6b07d7ed",
   "metadata": {},
   "outputs": [
    {
     "name": "stdout",
     "output_type": "stream",
     "text": [
      "dict_values(['Ade', 'Male', '50', '1.90', '78'])\n"
     ]
    }
   ],
   "source": [
    "print(records.values())"
   ]
  },
  {
   "cell_type": "code",
   "execution_count": 46,
   "id": "bb2a5c5c",
   "metadata": {},
   "outputs": [
    {
     "name": "stdout",
     "output_type": "stream",
     "text": [
      "dict_items([('Name', 'Ade'), ('Gender', 'Male'), ('Age', '50'), ('Height', '1.90'), ('Weight', '78')])\n"
     ]
    }
   ],
   "source": [
    "print(records.items())"
   ]
  },
  {
   "cell_type": "code",
   "execution_count": 47,
   "id": "46576345",
   "metadata": {},
   "outputs": [
    {
     "name": "stdout",
     "output_type": "stream",
     "text": [
      "{'Name': 'Ade', 'Gender': 'Male', 'Age': '50', 'Height': '1.90', 'Weight': '78', 'BMI': 28.5}\n"
     ]
    }
   ],
   "source": [
    "records['BMI'] = 28.5\n",
    "print(records)"
   ]
  },
  {
   "cell_type": "code",
   "execution_count": 48,
   "id": "499c03e4",
   "metadata": {},
   "outputs": [
    {
     "name": "stdout",
     "output_type": "stream",
     "text": [
      "{'Name': 'Ade', 'Gender': 'Male', 'Age': '50', 'Height': 1.95, 'Weight': '78', 'BMI': 28.5}\n"
     ]
    }
   ],
   "source": [
    "r = {'Height':1.95}\n",
    "records.update(r)\n",
    "print(records)"
   ]
  },
  {
   "cell_type": "code",
   "execution_count": 49,
   "id": "e86abc1f",
   "metadata": {},
   "outputs": [
    {
     "name": "stdout",
     "output_type": "stream",
     "text": [
      "{'Name': 'Ade', 'Gender': 'Male', 'Age': '50', 'Height': 1.95, 'Weight': '78'}\n"
     ]
    }
   ],
   "source": [
    "records.popitem()\n",
    "print(records)"
   ]
  },
  {
   "cell_type": "code",
   "execution_count": 50,
   "id": "5de1d911",
   "metadata": {},
   "outputs": [
    {
     "name": "stdout",
     "output_type": "stream",
     "text": [
      "{'Name': 'Ade', 'Gender': 'Male', 'Age': '50', 'Weight': '78'}\n"
     ]
    }
   ],
   "source": [
    "records.pop('Height')\n",
    "print(records)"
   ]
  },
  {
   "cell_type": "code",
   "execution_count": 51,
   "id": "db9fefca",
   "metadata": {},
   "outputs": [
    {
     "name": "stdout",
     "output_type": "stream",
     "text": [
      "Faith\n"
     ]
    }
   ],
   "source": [
    "details = {\n",
    "    \"Name\":['Job','Faith','Peace'],\n",
    "    \"Age\":[45,47,50]\n",
    "}\n",
    "print(details['Name'][1])"
   ]
  },
  {
   "cell_type": "code",
   "execution_count": null,
   "id": "e37bcfa8",
   "metadata": {},
   "outputs": [],
   "source": []
  }
 ],
 "metadata": {
  "kernelspec": {
   "display_name": "Python 3 (ipykernel)",
   "language": "python",
   "name": "python3"
  },
  "language_info": {
   "codemirror_mode": {
    "name": "ipython",
    "version": 3
   },
   "file_extension": ".py",
   "mimetype": "text/x-python",
   "name": "python",
   "nbconvert_exporter": "python",
   "pygments_lexer": "ipython3",
   "version": "3.9.12"
  }
 },
 "nbformat": 4,
 "nbformat_minor": 5
}
