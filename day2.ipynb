{
 "cells": [
  {
   "cell_type": "code",
   "execution_count": 1,
   "id": "a05bdf6b",
   "metadata": {},
   "outputs": [
    {
     "name": "stdout",
     "output_type": "stream",
     "text": [
      "121\n"
     ]
    }
   ],
   "source": [
    "num1 = int(121.65)\n",
    "print(num1)"
   ]
  },
  {
   "cell_type": "code",
   "execution_count": 2,
   "id": "0516a54b",
   "metadata": {},
   "outputs": [
    {
     "name": "stdout",
     "output_type": "stream",
     "text": [
      "121\n"
     ]
    }
   ],
   "source": [
    "print(str(num1))"
   ]
  },
  {
   "cell_type": "code",
   "execution_count": 1,
   "id": "7496f8fb",
   "metadata": {},
   "outputs": [
    {
     "name": "stdout",
     "output_type": "stream",
     "text": [
      "45 80 90\n"
     ]
    }
   ],
   "source": [
    "num1 = int(45.36)\n",
    "num2 = int(80.25)\n",
    "num3 = int(90.36)\n",
    "print(num1,num2,num3)\n",
    "\n"
   ]
  },
  {
   "cell_type": "code",
   "execution_count": 3,
   "id": "a6276de8",
   "metadata": {},
   "outputs": [
    {
     "name": "stdout",
     "output_type": "stream",
     "text": [
      "45\n",
      "80\n",
      "90\n"
     ]
    }
   ],
   "source": [
    "print(str(num1))\n",
    "print(str(num2))\n",
    "print(str(num3))\n"
   ]
  },
  {
   "cell_type": "code",
   "execution_count": 16,
   "id": "48b3261e",
   "metadata": {},
   "outputs": [
    {
     "name": "stdout",
     "output_type": "stream",
     "text": [
      "70.0\n",
      "89.5\n",
      "77.88\n"
     ]
    }
   ],
   "source": [
    "num1 = float(70)\n",
    "num2 = float(89.5)\n",
    "num3 = float(77.88)\n",
    "print(num1)\n",
    "print(num2)\n",
    "print(num3)"
   ]
  },
  {
   "cell_type": "code",
   "execution_count": 17,
   "id": "74c8c00f",
   "metadata": {},
   "outputs": [
    {
     "name": "stdout",
     "output_type": "stream",
     "text": [
      "70 89 77\n"
     ]
    }
   ],
   "source": [
    "num1 = int(70)\n",
    "num2 = int(89.5)\n",
    "num3 = int(77.88)\n",
    "print(num1,num2,num3)"
   ]
  },
  {
   "cell_type": "code",
   "execution_count": 18,
   "id": "ff12d94a",
   "metadata": {},
   "outputs": [
    {
     "name": "stdout",
     "output_type": "stream",
     "text": [
      "45.0 85.0 90.0\n"
     ]
    }
   ],
   "source": [
    "num1 = float(45)\n",
    "num2 = float(85)\n",
    "num3 = float(90)\n",
    "print(num1,num2,num3)"
   ]
  },
  {
   "cell_type": "code",
   "execution_count": 21,
   "id": "af4f305c",
   "metadata": {},
   "outputs": [
    {
     "name": "stdout",
     "output_type": "stream",
     "text": [
      "45.0\n",
      "85.0\n",
      "90.0\n"
     ]
    }
   ],
   "source": [
    "print(str(num1))\n",
    "print(str(num2))\n",
    "print(str(num3))"
   ]
  },
  {
   "cell_type": "markdown",
   "id": "263ace2e",
   "metadata": {},
   "source": [
    "#INPUT FUNCTION"
   ]
  },
  {
   "cell_type": "code",
   "execution_count": null,
   "id": "0d27f68a",
   "metadata": {},
   "outputs": [],
   "source": []
  },
  {
   "cell_type": "code",
   "execution_count": 29,
   "id": "5e5e6be8",
   "metadata": {},
   "outputs": [
    {
     "name": "stdout",
     "output_type": "stream",
     "text": [
      "please provide your name: PAUL\n"
     ]
    }
   ],
   "source": [
    "name = input('please provide your name: ')"
   ]
  },
  {
   "cell_type": "code",
   "execution_count": 30,
   "id": "2fd8f06f",
   "metadata": {},
   "outputs": [
    {
     "name": "stdout",
     "output_type": "stream",
     "text": [
      "please provide your age: 24\n"
     ]
    }
   ],
   "source": [
    "age = int(input('please provide your age: '))"
   ]
  },
  {
   "cell_type": "code",
   "execution_count": 31,
   "id": "9b5a122b",
   "metadata": {},
   "outputs": [
    {
     "name": "stdout",
     "output_type": "stream",
     "text": [
      "please provide your age: 45.2\n"
     ]
    }
   ],
   "source": [
    "age2 = float(input('please provide your age: '))"
   ]
  },
  {
   "cell_type": "markdown",
   "id": "f71221ae",
   "metadata": {},
   "source": [
    "#OPERATORS"
   ]
  },
  {
   "cell_type": "markdown",
   "id": "0c82ef77",
   "metadata": {},
   "source": [
    "#ARITHMETIC OPERATORS"
   ]
  },
  {
   "cell_type": "code",
   "execution_count": 32,
   "id": "601282b6",
   "metadata": {},
   "outputs": [
    {
     "name": "stdout",
     "output_type": "stream",
     "text": [
      "provide the first number20\n",
      "provide the second number10\n",
      "20) + 10 = 30\n",
      "20) - 10 = 10\n",
      "20) * 10 = 200\n",
      "20) / 10 = 2.0\n",
      "20) % 10 = 0\n",
      "20) // 10 = 2\n",
      "20) ** 10 = 10240000000000\n"
     ]
    }
   ],
   "source": [
    "num1 = int(input('provide the first number'))\n",
    "num2 = int(input('provide the second number'))\n",
    "print(f'{num1}) + {num2} = {num1 + num2}')\n",
    "print(f'{num1}) - {num2} = {num1 - num2}')\n",
    "print(f'{num1}) * {num2} = {num1 * num2}')\n",
    "print(f'{num1}) / {num2} = {num1 / num2}')\n",
    "print(f'{num1}) % {num2} = {num1 % num2}')\n",
    "print(f'{num1}) // {num2} = {num1 // num2}')\n",
    "print(f'{num1}) ** {num2} = {num1 ** num2}')"
   ]
  },
  {
   "cell_type": "markdown",
   "id": "5e6a947f",
   "metadata": {},
   "source": [
    "#COMPARISM OPERATORS\n"
   ]
  },
  {
   "cell_type": "code",
   "execution_count": 33,
   "id": "64ff83af",
   "metadata": {},
   "outputs": [
    {
     "name": "stdout",
     "output_type": "stream",
     "text": [
      "provide the first number50\n",
      "provide the second number20\n",
      "50) > 20 = True\n",
      "50) < 20 = False\n",
      "50) >= 20 = True\n",
      "50) <= 20 = False\n",
      "50) == 20 = False\n",
      "50) != 20 = True\n"
     ]
    }
   ],
   "source": [
    "num1 = int(input('provide the first number'))\n",
    "num2 = int(input('provide the second number'))\n",
    "print(f'{num1}) > {num2} = {num1 > num2}')\n",
    "print(f'{num1}) < {num2} = {num1 < num2}')\n",
    "print(f'{num1}) >= {num2} = {num1 >= num2}')\n",
    "print(f'{num1}) <= {num2} = {num1 <= num2}')\n",
    "print(f'{num1}) == {num2} = {num1 == num2}')\n",
    "print(f'{num1}) != {num2} = {num1 != num2}')"
   ]
  },
  {
   "cell_type": "markdown",
   "id": "3d8ad5c6",
   "metadata": {},
   "source": [
    "#LOGICAL OPERATOR"
   ]
  },
  {
   "cell_type": "code",
   "execution_count": 34,
   "id": "7661cafc",
   "metadata": {},
   "outputs": [
    {
     "name": "stdout",
     "output_type": "stream",
     "text": [
      "provide the first number25\n",
      "provide the second number85\n",
      "25 > 85 and 25 != False\n",
      "25) < 85 or 25 != False\n"
     ]
    }
   ],
   "source": [
    "num1 = int(input('provide the first number'))\n",
    "num2 = int(input('provide the second number'))\n",
    "print(f'{num1} > {num2} and {num1} != {num1 > num2 and num1 != num2}')\n",
    "print(f'{num1}) < {num2} or {num1} != {num1 > num2 and num1 != num2}')\n"
   ]
  },
  {
   "cell_type": "markdown",
   "id": "a81dcb06",
   "metadata": {},
   "source": [
    "#IDENTITY OPERATOR"
   ]
  },
  {
   "cell_type": "code",
   "execution_count": 35,
   "id": "2005c188",
   "metadata": {},
   "outputs": [
    {
     "name": "stdout",
     "output_type": "stream",
     "text": [
      "provide the first number20\n",
      "provide the second number20\n",
      "True\n",
      "False\n"
     ]
    }
   ],
   "source": [
    "num1 = int(input('provide the first number'))\n",
    "num2 = int(input('provide the second number'))\n",
    "print(num1 is num2)\n",
    "print(num1 is not num2)\n"
   ]
  },
  {
   "cell_type": "markdown",
   "id": "566ecb63",
   "metadata": {},
   "source": [
    "#MEMBERSHIP OPERATOR"
   ]
  },
  {
   "cell_type": "code",
   "execution_count": 36,
   "id": "b6ea9bb9",
   "metadata": {},
   "outputs": [
    {
     "name": "stdout",
     "output_type": "stream",
     "text": [
      "please provide a word: python\n",
      "False\n",
      "False\n"
     ]
    }
   ],
   "source": [
    "course = input('please provide a word: ')\n",
    "print('s' in course)\n",
    "print('t' not in course)"
   ]
  },
  {
   "cell_type": "code",
   "execution_count": 38,
   "id": "84a5a154",
   "metadata": {},
   "outputs": [
    {
     "name": "stdout",
     "output_type": "stream",
     "text": [
      "provide pen quantity: 100\n",
      "Job's profit on 100 pen is 5000\n"
     ]
    }
   ],
   "source": [
    "#JOB BOUGHT N PEN AT THE RATE OF 50 NAIRA EACH AND SOLD THE PEN AT THE RATE OF 100 EACH. CALCULATE JOB'S PROFIT\n",
    "quantity = int(input('provide pen quantity: '))\n",
    "cost = 50 * quantity\n",
    "selling = 100 * quantity\n",
    "profit = selling - cost\n",
    "print(f'Job\\'s profit on {quantity} pen is {profit}')"
   ]
  },
  {
   "cell_type": "code",
   "execution_count": 3,
   "id": "ddf57c8f",
   "metadata": {},
   "outputs": [
    {
     "name": "stdout",
     "output_type": "stream",
     "text": [
      "Enter principle amount: 5000\n",
      "Enter rate of interst: 0.06\n",
      "Enter no of years=3\n",
      "compund interest is 5009.01\n"
     ]
    }
   ],
   "source": [
    "p = float(input(\"Enter principle amount: \"))\n",
    "r = float(input(\"Enter rate of interst: \"))\n",
    "t = float(input(\"Enter no of years=\"))\n",
    "ci = p * (1 + r / 100)**t\n",
    "print(\"compund interest is {:.2f}\".format(ci))"
   ]
  },
  {
   "cell_type": "code",
   "execution_count": null,
   "id": "cdd70fa3",
   "metadata": {},
   "outputs": [],
   "source": []
  }
 ],
 "metadata": {
  "kernelspec": {
   "display_name": "Python 3 (ipykernel)",
   "language": "python",
   "name": "python3"
  },
  "language_info": {
   "codemirror_mode": {
    "name": "ipython",
    "version": 3
   },
   "file_extension": ".py",
   "mimetype": "text/x-python",
   "name": "python",
   "nbconvert_exporter": "python",
   "pygments_lexer": "ipython3",
   "version": "3.9.12"
  }
 },
 "nbformat": 4,
 "nbformat_minor": 5
}
