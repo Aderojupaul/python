{
 "cells": [
  {
   "cell_type": "code",
   "execution_count": 1,
   "id": "1bf4833a",
   "metadata": {},
   "outputs": [],
   "source": [
    "import numpy as np\n",
    "import pandas as pd\n",
    "import matplotlib.pyplot as plt\n",
    "import seaborn as sns\n",
    "import plotly.express as px\n",
    "from sklearn.model_selection import train_test_split\n",
    "from sklearn.preprocessing import LabelEncoder, StandardScaler\n",
    "from sklearn.ensemble import GradientBoostingClassifier, AdaBoostClassifier, ExtraTreesClassifier\n",
    "from sklearn.pipeline import Pipeline\n",
    "from sklearn.svm import SVC\n",
    "from sklearn.metrics import classification_report, confusion_matrix"
   ]
  },
  {
   "cell_type": "code",
   "execution_count": 2,
   "id": "7b2a2a45",
   "metadata": {},
   "outputs": [
    {
     "data": {
      "text/html": [
       "<div>\n",
       "<style scoped>\n",
       "    .dataframe tbody tr th:only-of-type {\n",
       "        vertical-align: middle;\n",
       "    }\n",
       "\n",
       "    .dataframe tbody tr th {\n",
       "        vertical-align: top;\n",
       "    }\n",
       "\n",
       "    .dataframe thead th {\n",
       "        text-align: right;\n",
       "    }\n",
       "</style>\n",
       "<table border=\"1\" class=\"dataframe\">\n",
       "  <thead>\n",
       "    <tr style=\"text-align: right;\">\n",
       "      <th></th>\n",
       "      <th>surgery</th>\n",
       "      <th>age</th>\n",
       "      <th>hospital_number</th>\n",
       "      <th>rectal_temp</th>\n",
       "      <th>pulse</th>\n",
       "      <th>respiratory_rate</th>\n",
       "      <th>temp_of_extremities</th>\n",
       "      <th>peripheral_pulse</th>\n",
       "      <th>mucous_membrane</th>\n",
       "      <th>capillary_refill_time</th>\n",
       "      <th>...</th>\n",
       "      <th>packed_cell_volume</th>\n",
       "      <th>total_protein</th>\n",
       "      <th>abdomo_appearance</th>\n",
       "      <th>abdomo_protein</th>\n",
       "      <th>outcome</th>\n",
       "      <th>surgical_lesion</th>\n",
       "      <th>lesion_1</th>\n",
       "      <th>lesion_2</th>\n",
       "      <th>lesion_3</th>\n",
       "      <th>cp_data</th>\n",
       "    </tr>\n",
       "  </thead>\n",
       "  <tbody>\n",
       "    <tr>\n",
       "      <th>0</th>\n",
       "      <td>no</td>\n",
       "      <td>adult</td>\n",
       "      <td>530101</td>\n",
       "      <td>38.5</td>\n",
       "      <td>66.0</td>\n",
       "      <td>28.0</td>\n",
       "      <td>cool</td>\n",
       "      <td>reduced</td>\n",
       "      <td>NaN</td>\n",
       "      <td>more_3_sec</td>\n",
       "      <td>...</td>\n",
       "      <td>45.0</td>\n",
       "      <td>8.4</td>\n",
       "      <td>NaN</td>\n",
       "      <td>NaN</td>\n",
       "      <td>died</td>\n",
       "      <td>no</td>\n",
       "      <td>11300</td>\n",
       "      <td>0</td>\n",
       "      <td>0</td>\n",
       "      <td>no</td>\n",
       "    </tr>\n",
       "    <tr>\n",
       "      <th>1</th>\n",
       "      <td>yes</td>\n",
       "      <td>adult</td>\n",
       "      <td>534817</td>\n",
       "      <td>39.2</td>\n",
       "      <td>88.0</td>\n",
       "      <td>20.0</td>\n",
       "      <td>NaN</td>\n",
       "      <td>NaN</td>\n",
       "      <td>pale_cyanotic</td>\n",
       "      <td>less_3_sec</td>\n",
       "      <td>...</td>\n",
       "      <td>50.0</td>\n",
       "      <td>85.0</td>\n",
       "      <td>cloudy</td>\n",
       "      <td>2.0</td>\n",
       "      <td>euthanized</td>\n",
       "      <td>no</td>\n",
       "      <td>2208</td>\n",
       "      <td>0</td>\n",
       "      <td>0</td>\n",
       "      <td>no</td>\n",
       "    </tr>\n",
       "    <tr>\n",
       "      <th>2</th>\n",
       "      <td>no</td>\n",
       "      <td>adult</td>\n",
       "      <td>530334</td>\n",
       "      <td>38.3</td>\n",
       "      <td>40.0</td>\n",
       "      <td>24.0</td>\n",
       "      <td>normal</td>\n",
       "      <td>normal</td>\n",
       "      <td>pale_pink</td>\n",
       "      <td>less_3_sec</td>\n",
       "      <td>...</td>\n",
       "      <td>33.0</td>\n",
       "      <td>6.7</td>\n",
       "      <td>NaN</td>\n",
       "      <td>NaN</td>\n",
       "      <td>lived</td>\n",
       "      <td>no</td>\n",
       "      <td>0</td>\n",
       "      <td>0</td>\n",
       "      <td>0</td>\n",
       "      <td>yes</td>\n",
       "    </tr>\n",
       "    <tr>\n",
       "      <th>3</th>\n",
       "      <td>yes</td>\n",
       "      <td>young</td>\n",
       "      <td>5290409</td>\n",
       "      <td>39.1</td>\n",
       "      <td>164.0</td>\n",
       "      <td>84.0</td>\n",
       "      <td>cold</td>\n",
       "      <td>normal</td>\n",
       "      <td>dark_cyanotic</td>\n",
       "      <td>more_3_sec</td>\n",
       "      <td>...</td>\n",
       "      <td>48.0</td>\n",
       "      <td>7.2</td>\n",
       "      <td>serosanguious</td>\n",
       "      <td>5.3</td>\n",
       "      <td>died</td>\n",
       "      <td>yes</td>\n",
       "      <td>2208</td>\n",
       "      <td>0</td>\n",
       "      <td>0</td>\n",
       "      <td>yes</td>\n",
       "    </tr>\n",
       "    <tr>\n",
       "      <th>4</th>\n",
       "      <td>no</td>\n",
       "      <td>adult</td>\n",
       "      <td>530255</td>\n",
       "      <td>37.3</td>\n",
       "      <td>104.0</td>\n",
       "      <td>35.0</td>\n",
       "      <td>NaN</td>\n",
       "      <td>NaN</td>\n",
       "      <td>dark_cyanotic</td>\n",
       "      <td>more_3_sec</td>\n",
       "      <td>...</td>\n",
       "      <td>74.0</td>\n",
       "      <td>7.4</td>\n",
       "      <td>NaN</td>\n",
       "      <td>NaN</td>\n",
       "      <td>died</td>\n",
       "      <td>no</td>\n",
       "      <td>4300</td>\n",
       "      <td>0</td>\n",
       "      <td>0</td>\n",
       "      <td>no</td>\n",
       "    </tr>\n",
       "  </tbody>\n",
       "</table>\n",
       "<p>5 rows × 28 columns</p>\n",
       "</div>"
      ],
      "text/plain": [
       "  surgery    age  hospital_number  rectal_temp  pulse  respiratory_rate  \\\n",
       "0      no  adult           530101         38.5   66.0              28.0   \n",
       "1     yes  adult           534817         39.2   88.0              20.0   \n",
       "2      no  adult           530334         38.3   40.0              24.0   \n",
       "3     yes  young          5290409         39.1  164.0              84.0   \n",
       "4      no  adult           530255         37.3  104.0              35.0   \n",
       "\n",
       "  temp_of_extremities peripheral_pulse mucous_membrane capillary_refill_time  \\\n",
       "0                cool          reduced             NaN            more_3_sec   \n",
       "1                 NaN              NaN   pale_cyanotic            less_3_sec   \n",
       "2              normal           normal       pale_pink            less_3_sec   \n",
       "3                cold           normal   dark_cyanotic            more_3_sec   \n",
       "4                 NaN              NaN   dark_cyanotic            more_3_sec   \n",
       "\n",
       "   ... packed_cell_volume total_protein abdomo_appearance abdomo_protein  \\\n",
       "0  ...               45.0           8.4               NaN            NaN   \n",
       "1  ...               50.0          85.0            cloudy            2.0   \n",
       "2  ...               33.0           6.7               NaN            NaN   \n",
       "3  ...               48.0           7.2     serosanguious            5.3   \n",
       "4  ...               74.0           7.4               NaN            NaN   \n",
       "\n",
       "      outcome  surgical_lesion lesion_1 lesion_2  lesion_3  cp_data  \n",
       "0        died               no    11300        0         0       no  \n",
       "1  euthanized               no     2208        0         0       no  \n",
       "2       lived               no        0        0         0      yes  \n",
       "3        died              yes     2208        0         0      yes  \n",
       "4        died               no     4300        0         0       no  \n",
       "\n",
       "[5 rows x 28 columns]"
      ]
     },
     "execution_count": 2,
     "metadata": {},
     "output_type": "execute_result"
    }
   ],
   "source": [
    "df = pd.read_csv('horse.csv')\n",
    "df.head()"
   ]
  },
  {
   "cell_type": "code",
   "execution_count": 3,
   "id": "9f4e2d24",
   "metadata": {},
   "outputs": [
    {
     "data": {
      "text/plain": [
       "surgery                    0\n",
       "age                        0\n",
       "hospital_number            0\n",
       "rectal_temp               60\n",
       "pulse                     24\n",
       "respiratory_rate          58\n",
       "temp_of_extremities       56\n",
       "peripheral_pulse          69\n",
       "mucous_membrane           47\n",
       "capillary_refill_time     32\n",
       "pain                      55\n",
       "peristalsis               44\n",
       "abdominal_distention      56\n",
       "nasogastric_tube         104\n",
       "nasogastric_reflux       106\n",
       "nasogastric_reflux_ph    246\n",
       "rectal_exam_feces        102\n",
       "abdomen                  118\n",
       "packed_cell_volume        29\n",
       "total_protein             33\n",
       "abdomo_appearance        165\n",
       "abdomo_protein           198\n",
       "outcome                    0\n",
       "surgical_lesion            0\n",
       "lesion_1                   0\n",
       "lesion_2                   0\n",
       "lesion_3                   0\n",
       "cp_data                    0\n",
       "dtype: int64"
      ]
     },
     "execution_count": 3,
     "metadata": {},
     "output_type": "execute_result"
    }
   ],
   "source": [
    "df.isnull().sum()"
   ]
  },
  {
   "cell_type": "code",
   "execution_count": 4,
   "id": "ec12754a",
   "metadata": {},
   "outputs": [
    {
     "data": {
      "text/plain": [
       "Index(['surgery', 'age', 'hospital_number', 'rectal_temp', 'pulse',\n",
       "       'respiratory_rate', 'temp_of_extremities', 'peripheral_pulse',\n",
       "       'mucous_membrane', 'capillary_refill_time', 'pain', 'peristalsis',\n",
       "       'abdominal_distention', 'nasogastric_tube', 'nasogastric_reflux',\n",
       "       'nasogastric_reflux_ph', 'rectal_exam_feces', 'abdomen',\n",
       "       'packed_cell_volume', 'total_protein', 'abdomo_appearance',\n",
       "       'abdomo_protein', 'outcome', 'surgical_lesion', 'lesion_1', 'lesion_2',\n",
       "       'lesion_3', 'cp_data'],\n",
       "      dtype='object')"
      ]
     },
     "execution_count": 4,
     "metadata": {},
     "output_type": "execute_result"
    }
   ],
   "source": [
    "df.columns"
   ]
  },
  {
   "cell_type": "code",
   "execution_count": 5,
   "id": "e85b9d62",
   "metadata": {},
   "outputs": [
    {
     "data": {
      "text/plain": [
       "surgery                   object\n",
       "age                       object\n",
       "hospital_number            int64\n",
       "rectal_temp              float64\n",
       "pulse                    float64\n",
       "respiratory_rate         float64\n",
       "temp_of_extremities       object\n",
       "peripheral_pulse          object\n",
       "mucous_membrane           object\n",
       "capillary_refill_time     object\n",
       "pain                      object\n",
       "peristalsis               object\n",
       "abdominal_distention      object\n",
       "nasogastric_tube          object\n",
       "nasogastric_reflux        object\n",
       "nasogastric_reflux_ph    float64\n",
       "rectal_exam_feces         object\n",
       "abdomen                   object\n",
       "packed_cell_volume       float64\n",
       "total_protein            float64\n",
       "abdomo_appearance         object\n",
       "abdomo_protein           float64\n",
       "outcome                   object\n",
       "surgical_lesion           object\n",
       "lesion_1                   int64\n",
       "lesion_2                   int64\n",
       "lesion_3                   int64\n",
       "cp_data                   object\n",
       "dtype: object"
      ]
     },
     "execution_count": 5,
     "metadata": {},
     "output_type": "execute_result"
    }
   ],
   "source": [
    "df.dtypes"
   ]
  },
  {
   "cell_type": "code",
   "execution_count": 6,
   "id": "b0047a45",
   "metadata": {},
   "outputs": [],
   "source": [
    "df['rectal_temp'].fillna(np.mean(df['rectal_temp']),inplace=True)\n",
    "df['pulse'].fillna(np.mean(df['pulse']),inplace=True)\n",
    "df['respiratory_rate'].fillna(np.mean(df['respiratory_rate']),inplace=True)\n",
    "df['nasogastric_reflux_ph'].fillna(np.mean(df['nasogastric_reflux_ph']),inplace=True)\n",
    "df['packed_cell_volume'].fillna(np.mean(df['packed_cell_volume']),inplace=True)\n",
    "df['total_protein'].fillna(np.mean(df['total_protein']),inplace=True)\n",
    "df['abdomo_protein'].fillna(np.mean(df['abdomo_protein']),inplace=True)\n"
   ]
  },
  {
   "cell_type": "code",
   "execution_count": 7,
   "id": "df961a77",
   "metadata": {},
   "outputs": [],
   "source": [
    "df['temp_of_extremities'].fillna(df['temp_of_extremities'].mode().values[0],inplace=True)\n",
    "df['peripheral_pulse'].fillna(df['peripheral_pulse'].mode().values[0],inplace=True)\n",
    "df['mucous_membrane'].fillna(df['mucous_membrane'].mode().values[0],inplace=True)\n",
    "df['capillary_refill_time'].fillna(df['capillary_refill_time'].mode().values[0],inplace=True)\n",
    "df['pain'].fillna(df['pain'].mode().values[0],inplace=True)\n",
    "df['peristalsis'].fillna(df['peristalsis'].mode().values[0],inplace=True)\n",
    "df['abdominal_distention'].fillna(df['abdominal_distention'].mode().values[0],inplace=True)\n",
    "df['nasogastric_tube'].fillna(df['nasogastric_tube'].mode().values[0],inplace=True)\n",
    "df['nasogastric_reflux'].fillna(df['nasogastric_reflux'].mode().values[0],inplace=True)\n",
    "df['rectal_exam_feces'].fillna(df['rectal_exam_feces'].mode().values[0],inplace=True)\n",
    "df['abdomen'].fillna(df['abdomen'].mode().values[0],inplace=True)\n",
    "df['abdomo_appearance'].fillna(df['abdomo_appearance'].mode().values[0],inplace=True)"
   ]
  },
  {
   "cell_type": "code",
   "execution_count": 8,
   "id": "f1c46a81",
   "metadata": {},
   "outputs": [
    {
     "data": {
      "text/plain": [
       "surgery                  0\n",
       "age                      0\n",
       "hospital_number          0\n",
       "rectal_temp              0\n",
       "pulse                    0\n",
       "respiratory_rate         0\n",
       "temp_of_extremities      0\n",
       "peripheral_pulse         0\n",
       "mucous_membrane          0\n",
       "capillary_refill_time    0\n",
       "pain                     0\n",
       "peristalsis              0\n",
       "abdominal_distention     0\n",
       "nasogastric_tube         0\n",
       "nasogastric_reflux       0\n",
       "nasogastric_reflux_ph    0\n",
       "rectal_exam_feces        0\n",
       "abdomen                  0\n",
       "packed_cell_volume       0\n",
       "total_protein            0\n",
       "abdomo_appearance        0\n",
       "abdomo_protein           0\n",
       "outcome                  0\n",
       "surgical_lesion          0\n",
       "lesion_1                 0\n",
       "lesion_2                 0\n",
       "lesion_3                 0\n",
       "cp_data                  0\n",
       "dtype: int64"
      ]
     },
     "execution_count": 8,
     "metadata": {},
     "output_type": "execute_result"
    }
   ],
   "source": [
    "df.isnull().sum()"
   ]
  },
  {
   "cell_type": "code",
   "execution_count": 9,
   "id": "5dbc474d",
   "metadata": {},
   "outputs": [
    {
     "data": {
      "text/html": [
       "<div>\n",
       "<style scoped>\n",
       "    .dataframe tbody tr th:only-of-type {\n",
       "        vertical-align: middle;\n",
       "    }\n",
       "\n",
       "    .dataframe tbody tr th {\n",
       "        vertical-align: top;\n",
       "    }\n",
       "\n",
       "    .dataframe thead th {\n",
       "        text-align: right;\n",
       "    }\n",
       "</style>\n",
       "<table border=\"1\" class=\"dataframe\">\n",
       "  <thead>\n",
       "    <tr style=\"text-align: right;\">\n",
       "      <th></th>\n",
       "      <th>surgery</th>\n",
       "      <th>age</th>\n",
       "      <th>hospital_number</th>\n",
       "      <th>rectal_temp</th>\n",
       "      <th>pulse</th>\n",
       "      <th>respiratory_rate</th>\n",
       "      <th>temp_of_extremities</th>\n",
       "      <th>peripheral_pulse</th>\n",
       "      <th>mucous_membrane</th>\n",
       "      <th>capillary_refill_time</th>\n",
       "      <th>...</th>\n",
       "      <th>packed_cell_volume</th>\n",
       "      <th>total_protein</th>\n",
       "      <th>abdomo_appearance</th>\n",
       "      <th>abdomo_protein</th>\n",
       "      <th>outcome</th>\n",
       "      <th>surgical_lesion</th>\n",
       "      <th>lesion_1</th>\n",
       "      <th>lesion_2</th>\n",
       "      <th>lesion_3</th>\n",
       "      <th>cp_data</th>\n",
       "    </tr>\n",
       "  </thead>\n",
       "  <tbody>\n",
       "    <tr>\n",
       "      <th>0</th>\n",
       "      <td>no</td>\n",
       "      <td>adult</td>\n",
       "      <td>530101</td>\n",
       "      <td>38.5</td>\n",
       "      <td>66.0</td>\n",
       "      <td>28.0</td>\n",
       "      <td>cool</td>\n",
       "      <td>reduced</td>\n",
       "      <td>normal_pink</td>\n",
       "      <td>more_3_sec</td>\n",
       "      <td>...</td>\n",
       "      <td>45.0</td>\n",
       "      <td>8.4</td>\n",
       "      <td>cloudy</td>\n",
       "      <td>3.039604</td>\n",
       "      <td>died</td>\n",
       "      <td>no</td>\n",
       "      <td>11300</td>\n",
       "      <td>0</td>\n",
       "      <td>0</td>\n",
       "      <td>no</td>\n",
       "    </tr>\n",
       "    <tr>\n",
       "      <th>1</th>\n",
       "      <td>yes</td>\n",
       "      <td>adult</td>\n",
       "      <td>534817</td>\n",
       "      <td>39.2</td>\n",
       "      <td>88.0</td>\n",
       "      <td>20.0</td>\n",
       "      <td>cool</td>\n",
       "      <td>normal</td>\n",
       "      <td>pale_cyanotic</td>\n",
       "      <td>less_3_sec</td>\n",
       "      <td>...</td>\n",
       "      <td>50.0</td>\n",
       "      <td>85.0</td>\n",
       "      <td>cloudy</td>\n",
       "      <td>2.000000</td>\n",
       "      <td>euthanized</td>\n",
       "      <td>no</td>\n",
       "      <td>2208</td>\n",
       "      <td>0</td>\n",
       "      <td>0</td>\n",
       "      <td>no</td>\n",
       "    </tr>\n",
       "    <tr>\n",
       "      <th>2</th>\n",
       "      <td>no</td>\n",
       "      <td>adult</td>\n",
       "      <td>530334</td>\n",
       "      <td>38.3</td>\n",
       "      <td>40.0</td>\n",
       "      <td>24.0</td>\n",
       "      <td>normal</td>\n",
       "      <td>normal</td>\n",
       "      <td>pale_pink</td>\n",
       "      <td>less_3_sec</td>\n",
       "      <td>...</td>\n",
       "      <td>33.0</td>\n",
       "      <td>6.7</td>\n",
       "      <td>cloudy</td>\n",
       "      <td>3.039604</td>\n",
       "      <td>lived</td>\n",
       "      <td>no</td>\n",
       "      <td>0</td>\n",
       "      <td>0</td>\n",
       "      <td>0</td>\n",
       "      <td>yes</td>\n",
       "    </tr>\n",
       "    <tr>\n",
       "      <th>3</th>\n",
       "      <td>yes</td>\n",
       "      <td>young</td>\n",
       "      <td>5290409</td>\n",
       "      <td>39.1</td>\n",
       "      <td>164.0</td>\n",
       "      <td>84.0</td>\n",
       "      <td>cold</td>\n",
       "      <td>normal</td>\n",
       "      <td>dark_cyanotic</td>\n",
       "      <td>more_3_sec</td>\n",
       "      <td>...</td>\n",
       "      <td>48.0</td>\n",
       "      <td>7.2</td>\n",
       "      <td>serosanguious</td>\n",
       "      <td>5.300000</td>\n",
       "      <td>died</td>\n",
       "      <td>yes</td>\n",
       "      <td>2208</td>\n",
       "      <td>0</td>\n",
       "      <td>0</td>\n",
       "      <td>yes</td>\n",
       "    </tr>\n",
       "    <tr>\n",
       "      <th>4</th>\n",
       "      <td>no</td>\n",
       "      <td>adult</td>\n",
       "      <td>530255</td>\n",
       "      <td>37.3</td>\n",
       "      <td>104.0</td>\n",
       "      <td>35.0</td>\n",
       "      <td>cool</td>\n",
       "      <td>normal</td>\n",
       "      <td>dark_cyanotic</td>\n",
       "      <td>more_3_sec</td>\n",
       "      <td>...</td>\n",
       "      <td>74.0</td>\n",
       "      <td>7.4</td>\n",
       "      <td>cloudy</td>\n",
       "      <td>3.039604</td>\n",
       "      <td>died</td>\n",
       "      <td>no</td>\n",
       "      <td>4300</td>\n",
       "      <td>0</td>\n",
       "      <td>0</td>\n",
       "      <td>no</td>\n",
       "    </tr>\n",
       "  </tbody>\n",
       "</table>\n",
       "<p>5 rows × 28 columns</p>\n",
       "</div>"
      ],
      "text/plain": [
       "  surgery    age  hospital_number  rectal_temp  pulse  respiratory_rate  \\\n",
       "0      no  adult           530101         38.5   66.0              28.0   \n",
       "1     yes  adult           534817         39.2   88.0              20.0   \n",
       "2      no  adult           530334         38.3   40.0              24.0   \n",
       "3     yes  young          5290409         39.1  164.0              84.0   \n",
       "4      no  adult           530255         37.3  104.0              35.0   \n",
       "\n",
       "  temp_of_extremities peripheral_pulse mucous_membrane capillary_refill_time  \\\n",
       "0                cool          reduced     normal_pink            more_3_sec   \n",
       "1                cool           normal   pale_cyanotic            less_3_sec   \n",
       "2              normal           normal       pale_pink            less_3_sec   \n",
       "3                cold           normal   dark_cyanotic            more_3_sec   \n",
       "4                cool           normal   dark_cyanotic            more_3_sec   \n",
       "\n",
       "   ... packed_cell_volume total_protein abdomo_appearance abdomo_protein  \\\n",
       "0  ...               45.0           8.4            cloudy       3.039604   \n",
       "1  ...               50.0          85.0            cloudy       2.000000   \n",
       "2  ...               33.0           6.7            cloudy       3.039604   \n",
       "3  ...               48.0           7.2     serosanguious       5.300000   \n",
       "4  ...               74.0           7.4            cloudy       3.039604   \n",
       "\n",
       "      outcome  surgical_lesion lesion_1 lesion_2  lesion_3  cp_data  \n",
       "0        died               no    11300        0         0       no  \n",
       "1  euthanized               no     2208        0         0       no  \n",
       "2       lived               no        0        0         0      yes  \n",
       "3        died              yes     2208        0         0      yes  \n",
       "4        died               no     4300        0         0       no  \n",
       "\n",
       "[5 rows x 28 columns]"
      ]
     },
     "execution_count": 9,
     "metadata": {},
     "output_type": "execute_result"
    }
   ],
   "source": [
    "df.head()"
   ]
  },
  {
   "cell_type": "code",
   "execution_count": 10,
   "id": "20ed01ce",
   "metadata": {},
   "outputs": [
    {
     "data": {
      "text/plain": [
       "lived         178\n",
       "died           77\n",
       "euthanized     44\n",
       "Name: outcome, dtype: int64"
      ]
     },
     "execution_count": 10,
     "metadata": {},
     "output_type": "execute_result"
    }
   ],
   "source": [
    "df['outcome'].value_counts()"
   ]
  },
  {
   "cell_type": "code",
   "execution_count": 11,
   "id": "a5cd0334",
   "metadata": {},
   "outputs": [
    {
     "data": {
      "text/plain": [
       "lived         178\n",
       "died          178\n",
       "euthanized    178\n",
       "Name: outcome, dtype: int64"
      ]
     },
     "execution_count": 11,
     "metadata": {},
     "output_type": "execute_result"
    }
   ],
   "source": [
    "from sklearn.utils import resample\n",
    "#Creation of two different dataframe [real and fake]\n",
    "df1 = df[(df['outcome']=='lived')]\n",
    "df2 = df[(df['outcome']=='died')]\n",
    "df3 = df[(df['outcome']=='euthanized')]\n",
    "#Unsampling of the real class since thats where the imbalance occurs\n",
    "df2_unsampled = resample(df2,\n",
    "                            replace= True,n_samples=178)\n",
    "df3_unsampled = resample(df3,\n",
    "                            replace= True,n_samples=178)\n",
    "\n",
    "#Combination of the two class \n",
    "df = pd.concat([df1,df2_unsampled,df3_unsampled])\n",
    "df['outcome'].value_counts()"
   ]
  },
  {
   "cell_type": "code",
   "execution_count": 12,
   "id": "926c719e",
   "metadata": {},
   "outputs": [
    {
     "data": {
      "text/plain": [
       "Index(['surgery', 'age', 'hospital_number', 'rectal_temp', 'pulse',\n",
       "       'respiratory_rate', 'temp_of_extremities', 'peripheral_pulse',\n",
       "       'mucous_membrane', 'capillary_refill_time', 'pain', 'peristalsis',\n",
       "       'abdominal_distention', 'nasogastric_tube', 'nasogastric_reflux',\n",
       "       'nasogastric_reflux_ph', 'rectal_exam_feces', 'abdomen',\n",
       "       'packed_cell_volume', 'total_protein', 'abdomo_appearance',\n",
       "       'abdomo_protein', 'outcome', 'surgical_lesion', 'lesion_1', 'lesion_2',\n",
       "       'lesion_3', 'cp_data'],\n",
       "      dtype='object')"
      ]
     },
     "execution_count": 12,
     "metadata": {},
     "output_type": "execute_result"
    }
   ],
   "source": [
    "df.columns"
   ]
  },
  {
   "cell_type": "code",
   "execution_count": 13,
   "id": "9b02f33d",
   "metadata": {},
   "outputs": [
    {
     "data": {
      "text/html": [
       "<div>\n",
       "<style scoped>\n",
       "    .dataframe tbody tr th:only-of-type {\n",
       "        vertical-align: middle;\n",
       "    }\n",
       "\n",
       "    .dataframe tbody tr th {\n",
       "        vertical-align: top;\n",
       "    }\n",
       "\n",
       "    .dataframe thead th {\n",
       "        text-align: right;\n",
       "    }\n",
       "</style>\n",
       "<table border=\"1\" class=\"dataframe\">\n",
       "  <thead>\n",
       "    <tr style=\"text-align: right;\">\n",
       "      <th></th>\n",
       "      <th>surgery</th>\n",
       "      <th>age</th>\n",
       "      <th>hospital_number</th>\n",
       "      <th>rectal_temp</th>\n",
       "      <th>pulse</th>\n",
       "      <th>respiratory_rate</th>\n",
       "      <th>temp_of_extremities</th>\n",
       "      <th>peripheral_pulse</th>\n",
       "      <th>mucous_membrane</th>\n",
       "      <th>capillary_refill_time</th>\n",
       "      <th>...</th>\n",
       "      <th>packed_cell_volume</th>\n",
       "      <th>total_protein</th>\n",
       "      <th>abdomo_appearance</th>\n",
       "      <th>abdomo_protein</th>\n",
       "      <th>outcome</th>\n",
       "      <th>surgical_lesion</th>\n",
       "      <th>lesion_1</th>\n",
       "      <th>lesion_2</th>\n",
       "      <th>lesion_3</th>\n",
       "      <th>cp_data</th>\n",
       "    </tr>\n",
       "  </thead>\n",
       "  <tbody>\n",
       "    <tr>\n",
       "      <th>2</th>\n",
       "      <td>0</td>\n",
       "      <td>0</td>\n",
       "      <td>530334</td>\n",
       "      <td>38.300000</td>\n",
       "      <td>40.0</td>\n",
       "      <td>24.000000</td>\n",
       "      <td>2</td>\n",
       "      <td>2</td>\n",
       "      <td>5</td>\n",
       "      <td>1</td>\n",
       "      <td>...</td>\n",
       "      <td>33.000000</td>\n",
       "      <td>6.700000</td>\n",
       "      <td>1</td>\n",
       "      <td>3.039604</td>\n",
       "      <td>lived</td>\n",
       "      <td>0</td>\n",
       "      <td>0</td>\n",
       "      <td>0</td>\n",
       "      <td>0</td>\n",
       "      <td>1</td>\n",
       "    </tr>\n",
       "    <tr>\n",
       "      <th>5</th>\n",
       "      <td>0</td>\n",
       "      <td>0</td>\n",
       "      <td>528355</td>\n",
       "      <td>38.168619</td>\n",
       "      <td>72.0</td>\n",
       "      <td>30.460581</td>\n",
       "      <td>3</td>\n",
       "      <td>2</td>\n",
       "      <td>5</td>\n",
       "      <td>1</td>\n",
       "      <td>...</td>\n",
       "      <td>46.307407</td>\n",
       "      <td>24.274436</td>\n",
       "      <td>1</td>\n",
       "      <td>3.039604</td>\n",
       "      <td>lived</td>\n",
       "      <td>0</td>\n",
       "      <td>0</td>\n",
       "      <td>0</td>\n",
       "      <td>0</td>\n",
       "      <td>0</td>\n",
       "    </tr>\n",
       "    <tr>\n",
       "      <th>6</th>\n",
       "      <td>1</td>\n",
       "      <td>0</td>\n",
       "      <td>526802</td>\n",
       "      <td>37.900000</td>\n",
       "      <td>48.0</td>\n",
       "      <td>16.000000</td>\n",
       "      <td>2</td>\n",
       "      <td>2</td>\n",
       "      <td>3</td>\n",
       "      <td>1</td>\n",
       "      <td>...</td>\n",
       "      <td>37.000000</td>\n",
       "      <td>7.000000</td>\n",
       "      <td>1</td>\n",
       "      <td>3.039604</td>\n",
       "      <td>lived</td>\n",
       "      <td>1</td>\n",
       "      <td>3124</td>\n",
       "      <td>0</td>\n",
       "      <td>0</td>\n",
       "      <td>0</td>\n",
       "    </tr>\n",
       "    <tr>\n",
       "      <th>9</th>\n",
       "      <td>0</td>\n",
       "      <td>1</td>\n",
       "      <td>5299629</td>\n",
       "      <td>38.300000</td>\n",
       "      <td>90.0</td>\n",
       "      <td>30.460581</td>\n",
       "      <td>2</td>\n",
       "      <td>2</td>\n",
       "      <td>3</td>\n",
       "      <td>1</td>\n",
       "      <td>...</td>\n",
       "      <td>40.000000</td>\n",
       "      <td>6.200000</td>\n",
       "      <td>0</td>\n",
       "      <td>2.200000</td>\n",
       "      <td>lived</td>\n",
       "      <td>0</td>\n",
       "      <td>0</td>\n",
       "      <td>0</td>\n",
       "      <td>0</td>\n",
       "      <td>1</td>\n",
       "    </tr>\n",
       "    <tr>\n",
       "      <th>10</th>\n",
       "      <td>1</td>\n",
       "      <td>0</td>\n",
       "      <td>528548</td>\n",
       "      <td>38.100000</td>\n",
       "      <td>66.0</td>\n",
       "      <td>12.000000</td>\n",
       "      <td>1</td>\n",
       "      <td>3</td>\n",
       "      <td>1</td>\n",
       "      <td>1</td>\n",
       "      <td>...</td>\n",
       "      <td>44.000000</td>\n",
       "      <td>6.000000</td>\n",
       "      <td>1</td>\n",
       "      <td>3.600000</td>\n",
       "      <td>lived</td>\n",
       "      <td>1</td>\n",
       "      <td>2124</td>\n",
       "      <td>0</td>\n",
       "      <td>0</td>\n",
       "      <td>1</td>\n",
       "    </tr>\n",
       "  </tbody>\n",
       "</table>\n",
       "<p>5 rows × 28 columns</p>\n",
       "</div>"
      ],
      "text/plain": [
       "    surgery  age  hospital_number  rectal_temp  pulse  respiratory_rate  \\\n",
       "2         0    0           530334    38.300000   40.0         24.000000   \n",
       "5         0    0           528355    38.168619   72.0         30.460581   \n",
       "6         1    0           526802    37.900000   48.0         16.000000   \n",
       "9         0    1          5299629    38.300000   90.0         30.460581   \n",
       "10        1    0           528548    38.100000   66.0         12.000000   \n",
       "\n",
       "    temp_of_extremities  peripheral_pulse  mucous_membrane  \\\n",
       "2                     2                 2                5   \n",
       "5                     3                 2                5   \n",
       "6                     2                 2                3   \n",
       "9                     2                 2                3   \n",
       "10                    1                 3                1   \n",
       "\n",
       "    capillary_refill_time  ...  packed_cell_volume  total_protein  \\\n",
       "2                       1  ...           33.000000       6.700000   \n",
       "5                       1  ...           46.307407      24.274436   \n",
       "6                       1  ...           37.000000       7.000000   \n",
       "9                       1  ...           40.000000       6.200000   \n",
       "10                      1  ...           44.000000       6.000000   \n",
       "\n",
       "    abdomo_appearance  abdomo_protein  outcome  surgical_lesion  lesion_1  \\\n",
       "2                   1        3.039604    lived                0         0   \n",
       "5                   1        3.039604    lived                0         0   \n",
       "6                   1        3.039604    lived                1      3124   \n",
       "9                   0        2.200000    lived                0         0   \n",
       "10                  1        3.600000    lived                1      2124   \n",
       "\n",
       "    lesion_2  lesion_3  cp_data  \n",
       "2          0         0        1  \n",
       "5          0         0        0  \n",
       "6          0         0        0  \n",
       "9          0         0        1  \n",
       "10         0         0        1  \n",
       "\n",
       "[5 rows x 28 columns]"
      ]
     },
     "execution_count": 13,
     "metadata": {},
     "output_type": "execute_result"
    }
   ],
   "source": [
    "categorical = ['surgery', 'age','temp_of_extremities','peripheral_pulse',\n",
    "       'mucous_membrane', 'capillary_refill_time', 'pain', 'peristalsis',\n",
    "       'abdominal_distention', 'nasogastric_tube', 'nasogastric_reflux',\n",
    "        'rectal_exam_feces','abdomen','abdomo_appearance','surgical_lesion','cp_data']\n",
    "enc = LabelEncoder()\n",
    "for x in categorical:\n",
    "    df[x] = enc.fit_transform(df[x])\n",
    "    \n",
    "df.head()"
   ]
  },
  {
   "cell_type": "code",
   "execution_count": 14,
   "id": "b03bfa37",
   "metadata": {},
   "outputs": [],
   "source": [
    "df.drop('hospital_number',axis =1, inplace=True)"
   ]
  },
  {
   "cell_type": "code",
   "execution_count": 15,
   "id": "112ecab2",
   "metadata": {},
   "outputs": [],
   "source": [
    "X = df.drop('outcome',axis=1)\n",
    "y = df['outcome']\n",
    "xtrain,xtest,ytrain,ytest = train_test_split(X,y, test_size=0.2,random_state=1)"
   ]
  },
  {
   "cell_type": "code",
   "execution_count": 16,
   "id": "4771b62a",
   "metadata": {},
   "outputs": [],
   "source": [
    "clf1 = Pipeline([('scaler',StandardScaler()), ('model', GradientBoostingClassifier())])\n",
    "clf2 = Pipeline([('scaler',StandardScaler()), ('model', AdaBoostClassifier())])\n",
    "clf3 = Pipeline([('scaler',StandardScaler()), ('model', ExtraTreesClassifier())])\n",
    "clf4 = Pipeline([('scaler',StandardScaler()), ('model', SVC())])"
   ]
  },
  {
   "cell_type": "code",
   "execution_count": 17,
   "id": "13c9e809",
   "metadata": {},
   "outputs": [
    {
     "data": {
      "text/plain": [
       "Pipeline(steps=[('scaler', StandardScaler()),\n",
       "                ('model', GradientBoostingClassifier())])"
      ]
     },
     "execution_count": 17,
     "metadata": {},
     "output_type": "execute_result"
    }
   ],
   "source": [
    "clf1.fit(xtrain,ytrain)"
   ]
  },
  {
   "cell_type": "code",
   "execution_count": 18,
   "id": "6734795f",
   "metadata": {},
   "outputs": [
    {
     "data": {
      "text/plain": [
       "array(['euthanized', 'euthanized', 'euthanized', 'lived', 'euthanized',\n",
       "       'died', 'died', 'euthanized', 'lived', 'died', 'euthanized',\n",
       "       'died', 'euthanized', 'died', 'lived', 'lived', 'euthanized',\n",
       "       'died', 'died', 'died', 'lived', 'died', 'lived', 'euthanized',\n",
       "       'euthanized', 'euthanized', 'died', 'died', 'died', 'died', 'died',\n",
       "       'lived', 'euthanized', 'euthanized', 'euthanized', 'died',\n",
       "       'euthanized', 'euthanized', 'lived', 'lived', 'euthanized',\n",
       "       'lived', 'lived', 'euthanized', 'died', 'euthanized', 'euthanized',\n",
       "       'died', 'lived', 'euthanized', 'died', 'lived', 'died', 'lived',\n",
       "       'lived', 'euthanized', 'euthanized', 'lived', 'euthanized', 'died',\n",
       "       'died', 'died', 'euthanized', 'lived', 'euthanized', 'euthanized',\n",
       "       'euthanized', 'died', 'euthanized', 'euthanized', 'euthanized',\n",
       "       'died', 'euthanized', 'euthanized', 'lived', 'died', 'euthanized',\n",
       "       'died', 'lived', 'died', 'died', 'euthanized', 'euthanized',\n",
       "       'died', 'died', 'lived', 'euthanized', 'euthanized', 'euthanized',\n",
       "       'died', 'died', 'lived', 'lived', 'died', 'euthanized', 'lived',\n",
       "       'died', 'died', 'died', 'euthanized', 'lived', 'lived',\n",
       "       'euthanized', 'died', 'euthanized', 'lived', 'lived'], dtype=object)"
      ]
     },
     "execution_count": 18,
     "metadata": {},
     "output_type": "execute_result"
    }
   ],
   "source": [
    "pred1=clf1.predict(xtest)\n",
    "pred1"
   ]
  },
  {
   "cell_type": "code",
   "execution_count": 19,
   "id": "3b77dd1c",
   "metadata": {},
   "outputs": [
    {
     "name": "stdout",
     "output_type": "stream",
     "text": [
      "              precision    recall  f1-score   support\n",
      "\n",
      "        died       0.86      1.00      0.93        32\n",
      "  euthanized       0.93      1.00      0.96        40\n",
      "       lived       1.00      0.77      0.87        35\n",
      "\n",
      "    accuracy                           0.93       107\n",
      "   macro avg       0.93      0.92      0.92       107\n",
      "weighted avg       0.93      0.93      0.92       107\n",
      "\n"
     ]
    }
   ],
   "source": [
    "print(classification_report(ytest,pred1))"
   ]
  },
  {
   "cell_type": "code",
   "execution_count": 20,
   "id": "e4a136e5",
   "metadata": {},
   "outputs": [
    {
     "data": {
      "text/plain": [
       "<AxesSubplot:>"
      ]
     },
     "execution_count": 20,
     "metadata": {},
     "output_type": "execute_result"
    },
    {
     "data": {
      "image/png": "[encoded data removed]",
      "text/plain": [
       "<Figure size 432x288 with 2 Axes>"
      ]
     },
     "metadata": {
      "needs_background": "light"
     },
     "output_type": "display_data"
    }
   ],
   "source": [
    "sns.heatmap(confusion_matrix(ytest,pred1), annot = True, fmt = '0.5g')"
   ]
  },
  {
   "cell_type": "code",
   "execution_count": 21,
   "id": "5f3f2ca9",
   "metadata": {},
   "outputs": [
    {
     "data": {
      "text/plain": [
       "Pipeline(steps=[('scaler', StandardScaler()), ('model', AdaBoostClassifier())])"
      ]
     },
     "execution_count": 21,
     "metadata": {},
     "output_type": "execute_result"
    }
   ],
   "source": [
    "clf2.fit(xtrain,ytrain)"
   ]
  },
  {
   "cell_type": "code",
   "execution_count": 22,
   "id": "78e67f5a",
   "metadata": {},
   "outputs": [
    {
     "data": {
      "text/plain": [
       "array(['euthanized', 'euthanized', 'euthanized', 'died', 'euthanized',\n",
       "       'died', 'lived', 'euthanized', 'euthanized', 'died', 'euthanized',\n",
       "       'died', 'lived', 'lived', 'lived', 'lived', 'euthanized', 'died',\n",
       "       'lived', 'died', 'lived', 'died', 'died', 'euthanized',\n",
       "       'euthanized', 'lived', 'died', 'died', 'died', 'euthanized',\n",
       "       'died', 'lived', 'lived', 'lived', 'euthanized', 'died', 'lived',\n",
       "       'lived', 'lived', 'lived', 'lived', 'lived', 'died', 'lived',\n",
       "       'lived', 'euthanized', 'euthanized', 'lived', 'euthanized',\n",
       "       'euthanized', 'lived', 'died', 'died', 'euthanized', 'lived',\n",
       "       'euthanized', 'euthanized', 'lived', 'euthanized', 'lived',\n",
       "       'lived', 'died', 'euthanized', 'lived', 'euthanized', 'lived',\n",
       "       'euthanized', 'died', 'euthanized', 'euthanized', 'euthanized',\n",
       "       'died', 'lived', 'euthanized', 'died', 'died', 'euthanized',\n",
       "       'lived', 'died', 'died', 'died', 'euthanized', 'euthanized',\n",
       "       'died', 'euthanized', 'lived', 'lived', 'euthanized', 'euthanized',\n",
       "       'lived', 'died', 'lived', 'lived', 'died', 'euthanized', 'lived',\n",
       "       'died', 'died', 'died', 'euthanized', 'lived', 'lived',\n",
       "       'euthanized', 'died', 'euthanized', 'lived', 'lived'], dtype=object)"
      ]
     },
     "execution_count": 22,
     "metadata": {},
     "output_type": "execute_result"
    }
   ],
   "source": [
    "pred2=clf2.predict(xtest)\n",
    "pred2"
   ]
  },
  {
   "cell_type": "code",
   "execution_count": 23,
   "id": "8d8a6486",
   "metadata": {},
   "outputs": [
    {
     "name": "stdout",
     "output_type": "stream",
     "text": [
      "              precision    recall  f1-score   support\n",
      "\n",
      "        died       0.68      0.66      0.67        32\n",
      "  euthanized       0.84      0.78      0.81        40\n",
      "       lived       0.54      0.60      0.57        35\n",
      "\n",
      "    accuracy                           0.68       107\n",
      "   macro avg       0.68      0.68      0.68       107\n",
      "weighted avg       0.69      0.68      0.69       107\n",
      "\n"
     ]
    }
   ],
   "source": [
    "print(classification_report(ytest,pred2))"
   ]
  },
  {
   "cell_type": "code",
   "execution_count": 24,
   "id": "8f89b15a",
   "metadata": {},
   "outputs": [
    {
     "data": {
      "text/plain": [
       "<AxesSubplot:>"
      ]
     },
     "execution_count": 24,
     "metadata": {},
     "output_type": "execute_result"
    },
    {
     "data": {
      "image/png": "[encoded data removed]",
      "text/plain": [
       "<Figure size 432x288 with 2 Axes>"
      ]
     },
     "metadata": {
      "needs_background": "light"
     },
     "output_type": "display_data"
    }
   ],
   "source": [
    "sns.heatmap(confusion_matrix(ytest,pred1), annot = True, fmt = '0.5g')"
   ]
  },
  {
   "cell_type": "code",
   "execution_count": 25,
   "id": "16afb65a",
   "metadata": {},
   "outputs": [
    {
     "data": {
      "text/plain": [
       "Pipeline(steps=[('scaler', StandardScaler()),\n",
       "                ('model', ExtraTreesClassifier())])"
      ]
     },
     "execution_count": 25,
     "metadata": {},
     "output_type": "execute_result"
    }
   ],
   "source": [
    "clf3.fit(xtrain,ytrain)"
   ]
  },
  {
   "cell_type": "code",
   "execution_count": 33,
   "id": "59573f00",
   "metadata": {},
   "outputs": [
    {
     "data": {
      "text/plain": [
       "array(['euthanized', 'euthanized', 'euthanized', 'died', 'euthanized',\n",
       "       'died', 'died', 'euthanized', 'lived', 'died', 'euthanized',\n",
       "       'lived', 'lived', 'died', 'lived', 'lived', 'euthanized', 'lived',\n",
       "       'died', 'died', 'lived', 'died', 'lived', 'euthanized',\n",
       "       'euthanized', 'euthanized', 'died', 'lived', 'died', 'died',\n",
       "       'died', 'lived', 'euthanized', 'euthanized', 'euthanized', 'died',\n",
       "       'euthanized', 'euthanized', 'lived', 'lived', 'euthanized',\n",
       "       'lived', 'lived', 'euthanized', 'died', 'euthanized', 'euthanized',\n",
       "       'died', 'lived', 'euthanized', 'died', 'lived', 'died', 'lived',\n",
       "       'lived', 'euthanized', 'euthanized', 'lived', 'euthanized', 'died',\n",
       "       'lived', 'lived', 'euthanized', 'lived', 'euthanized',\n",
       "       'euthanized', 'euthanized', 'died', 'euthanized', 'euthanized',\n",
       "       'euthanized', 'died', 'lived', 'euthanized', 'lived', 'died',\n",
       "       'euthanized', 'died', 'died', 'died', 'died', 'lived',\n",
       "       'euthanized', 'died', 'died', 'lived', 'euthanized', 'euthanized',\n",
       "       'euthanized', 'lived', 'died', 'lived', 'lived', 'died',\n",
       "       'euthanized', 'lived', 'died', 'died', 'died', 'euthanized',\n",
       "       'lived', 'lived', 'euthanized', 'died', 'euthanized', 'lived',\n",
       "       'lived'], dtype=object)"
      ]
     },
     "execution_count": 33,
     "metadata": {},
     "output_type": "execute_result"
    }
   ],
   "source": [
    "pred3=clf3.predict(xtest)\n",
    "pred3"
   ]
  },
  {
   "cell_type": "code",
   "execution_count": 34,
   "id": "bb7e1d5d",
   "metadata": {},
   "outputs": [
    {
     "name": "stdout",
     "output_type": "stream",
     "text": [
      "              precision    recall  f1-score   support\n",
      "\n",
      "        died       0.85      0.88      0.86        32\n",
      "  euthanized       1.00      1.00      1.00        40\n",
      "       lived       0.88      0.86      0.87        35\n",
      "\n",
      "    accuracy                           0.92       107\n",
      "   macro avg       0.91      0.91      0.91       107\n",
      "weighted avg       0.92      0.92      0.92       107\n",
      "\n"
     ]
    }
   ],
   "source": [
    "print(classification_report(ytest,pred3))"
   ]
  },
  {
   "cell_type": "code",
   "execution_count": 35,
   "id": "bb530b9d",
   "metadata": {},
   "outputs": [
    {
     "data": {
      "text/plain": [
       "<AxesSubplot:>"
      ]
     },
     "execution_count": 35,
     "metadata": {},
     "output_type": "execute_result"
    },
    {
     "data": {
      "image/png": "[encoded data removed]",
      "text/plain": [
       "<Figure size 432x288 with 2 Axes>"
      ]
     },
     "metadata": {
      "needs_background": "light"
     },
     "output_type": "display_data"
    }
   ],
   "source": [
    "sns.heatmap(confusion_matrix(ytest,pred3), annot = True, fmt = '0.5g')"
   ]
  },
  {
   "cell_type": "code",
   "execution_count": 36,
   "id": "f3266cff",
   "metadata": {},
   "outputs": [
    {
     "data": {
      "text/plain": [
       "Pipeline(steps=[('scaler', StandardScaler()), ('model', SVC())])"
      ]
     },
     "execution_count": 36,
     "metadata": {},
     "output_type": "execute_result"
    }
   ],
   "source": [
    "clf4.fit(xtrain,ytrain)"
   ]
  },
  {
   "cell_type": "code",
   "execution_count": 37,
   "id": "63c8a5ee",
   "metadata": {},
   "outputs": [
    {
     "data": {
      "text/plain": [
       "array(['euthanized', 'euthanized', 'euthanized', 'died', 'euthanized',\n",
       "       'died', 'died', 'euthanized', 'lived', 'died', 'died', 'died',\n",
       "       'euthanized', 'died', 'lived', 'lived', 'euthanized', 'died',\n",
       "       'died', 'died', 'lived', 'died', 'lived', 'euthanized',\n",
       "       'euthanized', 'euthanized', 'died', 'died', 'died', 'euthanized',\n",
       "       'died', 'lived', 'euthanized', 'euthanized', 'euthanized', 'died',\n",
       "       'euthanized', 'euthanized', 'lived', 'lived', 'euthanized',\n",
       "       'lived', 'lived', 'euthanized', 'died', 'euthanized', 'euthanized',\n",
       "       'died', 'lived', 'euthanized', 'died', 'lived', 'died',\n",
       "       'euthanized', 'lived', 'euthanized', 'euthanized', 'lived',\n",
       "       'euthanized', 'died', 'died', 'lived', 'euthanized', 'lived',\n",
       "       'euthanized', 'euthanized', 'euthanized', 'died', 'euthanized',\n",
       "       'euthanized', 'lived', 'died', 'lived', 'euthanized', 'lived',\n",
       "       'died', 'euthanized', 'died', 'died', 'died', 'died', 'euthanized',\n",
       "       'euthanized', 'died', 'died', 'lived', 'died', 'euthanized',\n",
       "       'euthanized', 'died', 'died', 'lived', 'lived', 'died',\n",
       "       'euthanized', 'lived', 'died', 'died', 'died', 'euthanized',\n",
       "       'lived', 'lived', 'euthanized', 'died', 'died', 'lived', 'lived'],\n",
       "      dtype=object)"
      ]
     },
     "execution_count": 37,
     "metadata": {},
     "output_type": "execute_result"
    }
   ],
   "source": [
    "pred4=clf4.predict(xtest)\n",
    "pred4"
   ]
  },
  {
   "cell_type": "code",
   "execution_count": 38,
   "id": "feb795fc",
   "metadata": {},
   "outputs": [
    {
     "name": "stdout",
     "output_type": "stream",
     "text": [
      "              precision    recall  f1-score   support\n",
      "\n",
      "        died       0.78      0.97      0.86        32\n",
      "  euthanized       0.90      0.90      0.90        40\n",
      "       lived       0.96      0.74      0.84        35\n",
      "\n",
      "    accuracy                           0.87       107\n",
      "   macro avg       0.88      0.87      0.87       107\n",
      "weighted avg       0.88      0.87      0.87       107\n",
      "\n"
     ]
    }
   ],
   "source": [
    "print(classification_report(ytest,pred4))"
   ]
  },
  {
   "cell_type": "code",
   "execution_count": 39,
   "id": "0900528f",
   "metadata": {},
   "outputs": [
    {
     "data": {
      "text/plain": [
       "<AxesSubplot:>"
      ]
     },
     "execution_count": 39,
     "metadata": {},
     "output_type": "execute_result"
    },
    {
     "data": {
      "image/png": "[encoded data removed]",
      "text/plain": [
       "<Figure size 432x288 with 2 Axes>"
      ]
     },
     "metadata": {
      "needs_background": "light"
     },
     "output_type": "display_data"
    }
   ],
   "source": [
    "sns.heatmap(confusion_matrix(ytest,pred3), annot = True, fmt = '0.5g')"
   ]
  }
 ],
 "metadata": {
  "kernelspec": {
   "display_name": "Python 3 (ipykernel)",
   "language": "python",
   "name": "python3"
  },
  "language_info": {
   "codemirror_mode": {
    "name": "ipython",
    "version": 3
   },
   "file_extension": ".py",
   "mimetype": "text/x-python",
   "name": "python",
   "nbconvert_exporter": "python",
   "pygments_lexer": "ipython3",
   "version": "3.9.12"
  }
 },
 "nbformat": 4,
 "nbformat_minor": 5
}
