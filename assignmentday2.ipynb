{
 "cells": [
  {
   "cell_type": "code",
   "execution_count": 2,
   "id": "17ab2ad9",
   "metadata": {},
   "outputs": [
    {
     "name": "stdout",
     "output_type": "stream",
     "text": [
      "458.0\n"
     ]
    }
   ],
   "source": [
    "num = float(458)\n",
    "print(num)"
   ]
  },
  {
   "cell_type": "code",
   "execution_count": 3,
   "id": "fb66bf28",
   "metadata": {},
   "outputs": [
    {
     "name": "stdout",
     "output_type": "stream",
     "text": [
      "provide first name: Ayomide\n",
      "provide second name: Paul\n",
      "provide third name: Temilade\n"
     ]
    }
   ],
   "source": [
    "name = input('provide first name: ')\n",
    "name = input('provide second name: ')\n",
    "name = input('provide third name: ')"
   ]
  },
  {
   "cell_type": "code",
   "execution_count": 8,
   "id": "6426ce92",
   "metadata": {},
   "outputs": [
    {
     "name": "stdout",
     "output_type": "stream",
     "text": [
      "Enter principle amount: 5000\n",
      "Enter rate of interst: 6\n",
      "Enter no of years=3\n",
      "the compound interest 5955.08\n"
     ]
    }
   ],
   "source": [
    "p = float(input(\"Enter principle amount: \"))\n",
    "r = float(input(\"Enter rate of interst: \"))\n",
    "t = float(input(\"Enter no of years=\"))\n",
    "ci = p * (1 +( r / 100))**t\n",
    "print(f'the compound interest {ci}')\n"
   ]
  },
  {
   "cell_type": "markdown",
   "id": "3f8410b1",
   "metadata": {},
   "source": [
    "##### "
   ]
  },
  {
   "cell_type": "code",
   "execution_count": 7,
   "id": "4c6e77ab",
   "metadata": {},
   "outputs": [
    {
     "name": "stdout",
     "output_type": "stream",
     "text": [
      "the total savings after three years is 701006.25\n"
     ]
    }
   ],
   "source": [
    "fp = 550000\n",
    "r = 5\n",
    "t = 3\n",
    "afterfirstyear = 25000\n",
    "aftersecondyear = 35000\n",
    "firstyear = (fp * (r/100)) + fp + afterfirstyear\n",
    "secondyear = (firstyear*(r/100)) + firstyear + aftersecondyear\n",
    "thirdyear = (secondyear*(r/100)) + secondyear\n",
    "print(f'the total savings after three years is {thirdyear}')"
   ]
  },
  {
   "cell_type": "code",
   "execution_count": 1,
   "id": "f1394386",
   "metadata": {},
   "outputs": [
    {
     "name": "stdout",
     "output_type": "stream",
     "text": [
      "the total savings after four years is 1290897.5\n"
     ]
    }
   ],
   "source": [
    "fp = 1000000\n",
    "r = 5\n",
    "t = 4\n",
    "afterfirstyear = 30000\n",
    "aftersecondyear = 45000\n",
    "afterthirdyear = 50000\n",
    "firstyear = (fp * (r/100)) + fp + afterfirstyear\n",
    "secondyear = (firstyear*(r/100)) + firstyear + aftersecondyear\n",
    "thirdyear = (secondyear*(r/100)) + secondyear\n",
    "fourthyear = (thirdyear*(r/100)) + secondyear + afterthirdyear\n",
    "print(f'the total savings after four years is {fourthyear}')\n"
   ]
  },
  {
   "cell_type": "code",
   "execution_count": null,
   "id": "0cf013cc",
   "metadata": {},
   "outputs": [],
   "source": []
  },
  {
   "cell_type": "code",
   "execution_count": null,
   "id": "bc4b0b59",
   "metadata": {},
   "outputs": [],
   "source": []
  },
  {
   "cell_type": "code",
   "execution_count": null,
   "id": "8009578d",
   "metadata": {},
   "outputs": [],
   "source": []
  }
 ],
 "metadata": {
  "kernelspec": {
   "display_name": "Python 3 (ipykernel)",
   "language": "python",
   "name": "python3"
  },
  "language_info": {
   "codemirror_mode": {
    "name": "ipython",
    "version": 3
   },
   "file_extension": ".py",
   "mimetype": "text/x-python",
   "name": "python",
   "nbconvert_exporter": "python",
   "pygments_lexer": "ipython3",
   "version": "3.9.12"
  }
 },
 "nbformat": 4,
 "nbformat_minor": 5
}
