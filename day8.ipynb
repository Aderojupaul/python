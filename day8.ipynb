{
 "cells": [
  {
   "cell_type": "code",
   "execution_count": 1,
   "id": "9ff283f3",
   "metadata": {},
   "outputs": [
    {
     "data": {
      "text/plain": [
       "'Male'"
      ]
     },
     "execution_count": 1,
     "metadata": {},
     "output_type": "execute_result"
    }
   ],
   "source": [
    "class person:\n",
    "    attr1 = 'Male'\n",
    "    attr2 = 'Dark'\n",
    "obj = person()\n",
    "obj.attr1"
   ]
  },
  {
   "cell_type": "code",
   "execution_count": 4,
   "id": "cefb25b9",
   "metadata": {},
   "outputs": [
    {
     "name": "stdout",
     "output_type": "stream",
     "text": [
      "I can talk\n"
     ]
    }
   ],
   "source": [
    "class person:\n",
    "    attr1 = 'Male'\n",
    "    attr2 = 'Dark'\n",
    "    def talk(self):\n",
    "        print('I) can talk')\n",
    "obj = person()\n",
    "obj.talk()\n"
   ]
  },
  {
   "cell_type": "code",
   "execution_count": 5,
   "id": "d9851381",
   "metadata": {},
   "outputs": [],
   "source": [
    "class carsimulation:\n",
    "    def __init__(self,brand,model,color,year,speed):\n",
    "        self.brand = brand\n",
    "        self.model = model\n",
    "        self.color = color\n",
    "        self.year = year\n",
    "        self.speed = speed\n",
    "    def start(self):\n",
    "        print(f'{self.brand} {self.model} has started')\n",
    "    def changegear(self):\n",
    "        gearoption = input('Choose gear option: ')\n",
    "        if gearoption == '1':\n",
    "            print('Gear placed on 1')\n",
    "        elif gearoption == '2':\n",
    "            print('Gear placed on 2')\n",
    "        elif gearoption == '3':\n",
    "            print('Gear placed on 3')\n",
    "        elif gearoption == '4':\n",
    "            print('Gear placed on 4')\n",
    "        elif gearoption == '5':\n",
    "            print('Gear placed on 5')\n",
    "        elif gearoption == 'R':\n",
    "            print('Gear placed on reversed')\n",
    "    def accelerate(self,option):\n",
    "        if option == 1:\n",
    "            print('Nitro Engaged')\n",
    "        elif option == 2:\n",
    "            print('Nitro Disengaged')\n",
    "        else:\n",
    "            print('Invalid Nitro option')\n",
    "    def stop(self):\n",
    "            print(f'{self.brand} {self.model} has stopped, GAME OVER!!!!!!!!')\n",
    "    \n",
    "car1 = carsimulation('Audi','A6','Yellow',2019,200)\n",
    "car2 = carsimulation('Lamboghini','Urus','Black',2020,350)\n",
    "            \n",
    "            \n",
    "            \n",
    "            \n",
    "            \n",
    "            \n",
    "            "
   ]
  },
  {
   "cell_type": "code",
   "execution_count": 7,
   "id": "322f38db",
   "metadata": {},
   "outputs": [
    {
     "name": "stdout",
     "output_type": "stream",
     "text": [
      "Audi A6 has started\n",
      "None\n"
     ]
    }
   ],
   "source": [
    "print(car1.start())"
   ]
  },
  {
   "cell_type": "code",
   "execution_count": 10,
   "id": "8b7d0e5d",
   "metadata": {},
   "outputs": [
    {
     "name": "stdout",
     "output_type": "stream",
     "text": [
      "Nitro Engaged\n",
      "None\n"
     ]
    }
   ],
   "source": [
    "print(car2.accelerate(1))"
   ]
  },
  {
   "cell_type": "code",
   "execution_count": 12,
   "id": "ea86809c",
   "metadata": {},
   "outputs": [
    {
     "name": "stdout",
     "output_type": "stream",
     "text": [
      "Lamboghini Urus has stopped, GAME OVER!!!!!!!!\n"
     ]
    }
   ],
   "source": [
    "car2.stop()"
   ]
  },
  {
   "cell_type": "code",
   "execution_count": 16,
   "id": "be288727",
   "metadata": {},
   "outputs": [],
   "source": [
    "class carsimulation2(carsimulation):\n",
    "    def openroof(self,option):\n",
    "        if option == 1:\n",
    "            print('Roof Opened')\n",
    "        elif option == 2:\n",
    "            print('Roof closed')\n",
    "        else:\n",
    "            print('Invalid roof option')\n",
    "car3 = carsimulation2('Ferari','Hotbold','Blue',2022,500)"
   ]
  },
  {
   "cell_type": "code",
   "execution_count": 17,
   "id": "4a3bb611",
   "metadata": {},
   "outputs": [
    {
     "name": "stdout",
     "output_type": "stream",
     "text": [
      "Ferari Hotbold has started\n"
     ]
    }
   ],
   "source": [
    "car3.start()"
   ]
  },
  {
   "cell_type": "code",
   "execution_count": 26,
   "id": "1c2ed63f",
   "metadata": {},
   "outputs": [
    {
     "name": "stdout",
     "output_type": "stream",
     "text": [
      "Roof Opened\n"
     ]
    }
   ],
   "source": [
    "car3.openroof(1)"
   ]
  },
  {
   "cell_type": "code",
   "execution_count": 37,
   "id": "46f58f4e",
   "metadata": {},
   "outputs": [
    {
     "name": "stdout",
     "output_type": "stream",
     "text": [
      "LIST OPERATIONS\n",
      "accept\n",
      "display\n",
      "pricechecker\n",
      "bmi\n",
      "Enter y as yes to perform operation and n as no to terminate operationy\n",
      "Enter operation options:accept\n",
      "Customer NameJOHN PABLO\n",
      "Customer GenderMale\n",
      "Customer Age34\n",
      "Customer weight70\n",
      "Customer Height1.56\n",
      "Customer CountryNigeria\n",
      "Customer ContinentAfrica\n",
      "Enter y as yes to perform operation and n as no to terminate operationn\n"
     ]
    }
   ],
   "source": [
    "class BODYMASSINDEXCHECKER:\n",
    "    def __init__(self,name,gender,age,weight,height,country,continent):\n",
    "        self.name = name\n",
    "        self.gender = gender\n",
    "        self.age = age\n",
    "        self.weight = weight\n",
    "        self.height = height\n",
    "        self.country = country\n",
    "        self.continent = continent\n",
    "    def accept(self,NAME,GENDER,AGE,WEIGHT,HEIGHT,COUNTRY,CONTINENT):\n",
    "        ob = BODYMASSINDEXCHECKER(NAME,GENDER,AGE,WEIGHT,HEIGHT,COUNTRY,CONTINENT)\n",
    "        customerlist.append(ob)\n",
    "    def display(self,ob):\n",
    "        print(f'''NAME:{ob.name}\n",
    "        GENDER:{ob.gender}\n",
    "        AGE:{ob.age}\n",
    "        WEIGHT:{ob.weight}\n",
    "        HEIGHT:{ob.height}\n",
    "        COUNTRY:{ob.country}\n",
    "        CONTINENT:{ob.continent}\n",
    "        ''')\n",
    "    def pricechecker(self):\n",
    "        option = input('please provide your continent once again: ')\n",
    "        if option == 'Africa':\n",
    "            print('Your charge is $40')\n",
    "        elif option == 'Asia':\n",
    "            print('Your charge is $60')\n",
    "        elif option == 'Europe':\n",
    "            print('Your charge is $50')\n",
    "        elif option == 'South America':\n",
    "            print('Your charge is $60')\n",
    "        elif option == 'North America':\n",
    "            print('Your charge is $55')\n",
    "    def bmi(self):\n",
    "        weight = float(input('Please provide your weight in kg: '))\n",
    "        height = float(input('Please provide your height in meters: '))\n",
    "        BMI = (weight/(height**2))\n",
    "        if BMI <18.5:\n",
    "            print('You are underweight kindly see a doctor')\n",
    "        elif BMI >=18.5 and BMI<=24.99:\n",
    "            print('Your BMI is normal continue your diet')\n",
    "        elif BMI >=25 and BMI <=29.99:\n",
    "            print('You are overweight kindly see the doctor for neccessary measures')\n",
    "        else:\n",
    "            print('You are obess kindly see the doctor immediately')\n",
    "customerlist = []\n",
    "obj = BODYMASSINDEXCHECKER('','',0,0,0,'','')\n",
    "print('LIST OPERATIONS\\naccept\\ndisplay\\npricechecker\\nbmi')\n",
    "operation = input('Enter y as yes to perform operation and n as no to terminate operation')\n",
    "counter = 1\n",
    "while operation == 'y':\n",
    "    option = input('Enter operation options:')\n",
    "    if option == 'accept':\n",
    "        obj.accept(input('Customer Name'),input('Customer Gender'),int(input('Customer Age')),\\\n",
    "                   float(input('Customer weight')),float(input('Customer Height')),\\\n",
    "                   input('Customer Country'),input('Customer Continent'))\n",
    "        \n",
    "    elif option == 'display':\n",
    "        for i in range(len(customerlist)):\n",
    "            obj.display(customerlist[i])\n",
    "    elif option == 'pricechecker':\n",
    "        obj.pricechecker()\n",
    "    elif option == 'bmi':\n",
    "        obj.bmi()\n",
    "    operation = input('Enter y as yes to perform operation and n as no to terminate operation')\n",
    "    counter = counter+1\n",
    "        "
   ]
  },
  {
   "cell_type": "markdown",
   "id": "2b8e6469",
   "metadata": {},
   "source": []
  }
 ],
 "metadata": {
  "kernelspec": {
   "display_name": "Python 3 (ipykernel)",
   "language": "python",
   "name": "python3"
  },
  "language_info": {
   "codemirror_mode": {
    "name": "ipython",
    "version": 3
   },
   "file_extension": ".py",
   "mimetype": "text/x-python",
   "name": "python",
   "nbconvert_exporter": "python",
   "pygments_lexer": "ipython3",
   "version": "3.9.12"
  }
 },
 "nbformat": 4,
 "nbformat_minor": 5
}
