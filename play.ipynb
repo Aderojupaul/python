{
 "cells": [
  {
   "cell_type": "code",
   "execution_count": 1,
   "id": "401b7377",
   "metadata": {},
   "outputs": [
    {
     "name": "stdout",
     "output_type": "stream",
     "text": [
      "Please input your Atm card and click enter  Enter\n",
      "Please input your pin: 24409\n",
      "Enter 1 to check balance , 2 to withdraw , 3 to transfer , 4 to buy airtime1\n",
      "NAME:Ade John\n",
      "BALANCE:60000\n",
      "    \n",
      "Do you wanna continue the transaction: y as yes and n as no: y\n"
     ]
    }
   ],
   "source": [
    "Bankrecords = {\n",
    "    '24409':['Ade John',60000],\n",
    "    '35080':['Sarah Scofied',120000],\n",
    "    '08082':['Debby John',250000]\n",
    "}\n",
    "\n",
    "counter = 1\n",
    "\n",
    "x = input('Please insert your Atm card and click enter  ')\n",
    "\n",
    "while x == 'Enter':\n",
    "    pin = input('Please input your pin: ')\n",
    "    \n",
    "    operation = int(input('Enter 1 to check balance , 2 to withdraw , 3 to transfer , 4 to buy airtime'))\n",
    "    \n",
    "    if operation == 1:\n",
    "        for key in Bankrecords:\n",
    "            if pin == key:\n",
    "                print(f'''NAME:{Bankrecords[pin][0]}\n",
    "BALANCE:{Bankrecords[pin][1]}\n",
    "    ''')\n",
    "    elif operation == 2:\n",
    "        for key in Bankrecords:\n",
    "            if pin == key:\n",
    "                print(f'Available balance is {Bankrecords[pin][1]}')\n",
    "                amount = float(input('Please provide amount to withdraw: '))\n",
    "                Bankrecords[pin][1] = Bankrecords[pin][1] - amount\n",
    "                print(f'Withdraw Successful \\nNew balance is: {Bankrecords[pin][1]}')\n",
    "            else:\n",
    "                Bankrecords[pin][1] = Bankrecords[pin][1] + amount\n",
    "                print(f'Insufficient Balance')\n",
    "         \n",
    "           \n",
    "                \n",
    "    elif operation == 3:\n",
    "        for key in Bankrecords:\n",
    "            if pin == key:\n",
    "                print(f'Available balnce is {Bankrecords[pin][1]}')\n",
    "                amount = float(input('please provide amount to transfer: '))\n",
    "                destination = input('provide destination account number: ')\n",
    "                Bankrecords[pin][1] = Bankrecords[pin][1] - amount\n",
    "                print(f'Transfer Succesful \\nNew balance is: {Bankrecords[pin][1]}')\n",
    "            else:\n",
    "                print(f'Insufficient Balance')\n",
    "\n",
    "    elif operation == 4:\n",
    "        for key in Bankrecords:\n",
    "            if pin == key:\n",
    "                print(f'Available Balance is {Bankrecords[pin][1]}')\n",
    "                amount = float(input('Please provide amount of Airtime: '))\n",
    "                Network = input('Provide network of Airtime: ')\n",
    "                Bankrecords[pin][1] = Bankrecords[pin][1] - amount\n",
    "                print(f'Airtime Purchased Succesfully \\nNew balance is: {Bankrecords[pin][1]}')\n",
    "            \n",
    "    elif operation == 5:\n",
    "        for key in Bankrecords:\n",
    "            if pin == key:\n",
    "                Bankrecords[pin][1] = Bankrecords[pin][1]\n",
    "                print(f'Available Balance is {Bankrecords[pin][1]}')\n",
    "\n",
    "    x = input('Do you wanna continue the transaction: y as yes and n as no: ')\n",
    "\n",
    "    counter += 1\n",
    "\n",
    "    \n",
    "\n"
   ]
  },
  {
   "cell_type": "code",
   "execution_count": null,
   "id": "91de1d2e",
   "metadata": {},
   "outputs": [],
   "source": []
  },
  {
   "cell_type": "code",
   "execution_count": null,
   "id": "a08febe5",
   "metadata": {},
   "outputs": [],
   "source": []
  }
 ],
 "metadata": {
  "kernelspec": {
   "display_name": "Python 3 (ipykernel)",
   "language": "python",
   "name": "python3"
  },
  "language_info": {
   "codemirror_mode": {
    "name": "ipython",
    "version": 3
   },
   "file_extension": ".py",
   "mimetype": "text/x-python",
   "name": "python",
   "nbconvert_exporter": "python",
   "pygments_lexer": "ipython3",
   "version": "3.9.12"
  }
 },
 "nbformat": 4,
 "nbformat_minor": 5
}
