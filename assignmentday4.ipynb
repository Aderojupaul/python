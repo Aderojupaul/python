{
 "cells": [
  {
   "cell_type": "markdown",
   "id": "85f55b27",
   "metadata": {},
   "source": [
    "WRITE  A PYTHON TO CALCULATE THE AVERAGE SCORE OF A STUDENT IN 8 SUBJECT AND A CONDITION TO GET THE GRADE"
   ]
  },
  {
   "cell_type": "code",
   "execution_count": null,
   "id": "42fbadfc",
   "metadata": {},
   "outputs": [],
   "source": []
  },
  {
   "cell_type": "code",
   "execution_count": 15,
   "id": "489c08fe",
   "metadata": {
    "scrolled": true
   },
   "outputs": [
    {
     "name": "stdout",
     "output_type": "stream",
     "text": [
      "Enter Marks Obtained in 8 Subjects: \n",
      "56\n",
      "67\n",
      "87\n",
      "34\n",
      "64\n",
      "30\n",
      "76\n",
      "54\n",
      "Your Grade is C1\n"
     ]
    }
   ],
   "source": [
    "print(\"Enter Marks Obtained in 8 Subjects: \")\n",
    "markOne = int(input())\n",
    "markTwo = int(input())\n",
    "markThree = int(input())\n",
    "markFour = int(input())\n",
    "markFive = int(input())\n",
    "markSix = int(input())\n",
    "markSeven = int(input())\n",
    "markEight = int(input())\n",
    "\n",
    "tot = markOne+markTwo+markThree+markFour+markFive+markSix+markSeven+markEight\n",
    "avg = tot/8\n",
    "\n",
    "if avg>=91 and avg<=100:\n",
    "    print(\"Your Grade is A1\")\n",
    "elif avg>=81 and avg<91:\n",
    "    print(\"Your Grade is A2\")\n",
    "elif avg>=71 and avg<81:\n",
    "    print(\"Your Grade is B1\")\n",
    "elif avg>=61 and avg<71:\n",
    "    print(\"Your Grade is B2\")\n",
    "elif avg>=51 and avg<61:\n",
    "    print(\"Your Grade is C1\")\n",
    "elif avg>=41 and avg<51:\n",
    "    print(\"Your Grade is C2\")\n",
    "elif avg>=33 and avg<41:\n",
    "    print(\"Your Grade is D\")\n",
    "elif avg>=21 and avg<33:\n",
    "    print(\"Your Grade is E1\")\n",
    "elif avg>=0 and avg<21:\n",
    "    print(\"Your Grade is E2\")\n",
    "else:\n",
    "    print(\"Invalid Input!\")"
   ]
  },
  {
   "cell_type": "code",
   "execution_count": 17,
   "id": "d96411d5",
   "metadata": {},
   "outputs": [
    {
     "name": "stdout",
     "output_type": "stream",
     "text": [
      "58.5\n"
     ]
    }
   ],
   "source": [
    "import statistics as stat\n",
    "score = [56,67,87,34,64,30,76,54]\n",
    "print((stat.mean(score)))"
   ]
  },
  {
   "cell_type": "code",
   "execution_count": null,
   "id": "587eeb86",
   "metadata": {},
   "outputs": [],
   "source": []
  },
  {
   "cell_type": "code",
   "execution_count": null,
   "id": "bc272019",
   "metadata": {},
   "outputs": [],
   "source": []
  }
 ],
 "metadata": {
  "kernelspec": {
   "display_name": "Python 3 (ipykernel)",
   "language": "python",
   "name": "python3"
  },
  "language_info": {
   "codemirror_mode": {
    "name": "ipython",
    "version": 3
   },
   "file_extension": ".py",
   "mimetype": "text/x-python",
   "name": "python",
   "nbconvert_exporter": "python",
   "pygments_lexer": "ipython3",
   "version": "3.9.12"
  }
 },
 "nbformat": 4,
 "nbformat_minor": 5
}
