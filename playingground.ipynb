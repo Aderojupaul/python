{
 "cells": [
  {
   "cell_type": "code",
   "execution_count": null,
   "id": "401b7377",
   "metadata": {},
   "outputs": [
    {
     "name": "stdout",
     "output_type": "stream",
     "text": [
      "Please insert your Atm card and click enter  Enter\n",
      "Please input your pin: 24409\n",
      "Enter 1 to check balance , 2 to withdraw , 3 to transfer , 4 to buy airtime1\n",
      "NAME:Ade John\n",
      "BALANCE:60000\n",
      "    \n",
      "Press Enter to continue or no to terminate: Enter\n"
     ]
    }
   ],
   "source": [
    "Bankrecords = {\n",
    "    '24409':['Ade John',60000],\n",
    "    '35080':['Sarah Scofied',120000],\n",
    "    '08082':['Debby John',250000]\n",
    "}\n",
    "\n",
    "counter = 1\n",
    "\n",
    "x = input('Please insert your Atm card and click enter  ')\n",
    "\n",
    "while x == 'Enter':\n",
    "    pin = input('Please input your pin: ')\n",
    "    \n",
    "    operation = int(input('Enter 1 to check balance , 2 to withdraw , 3 to transfer , 4 to buy airtime'))\n",
    "    \n",
    "    if operation == 1:\n",
    "        for key in Bankrecords:\n",
    "            if pin == key:\n",
    "                print(f'''NAME:{Bankrecords[pin][0]}\n",
    "BALANCE:{Bankrecords[pin][1]}\n",
    "    ''')\n",
    "    elif operation == 2:\n",
    "        for key in Bankrecords:\n",
    "            if pin == key:\n",
    "                print(f'Available balance is {Bankrecords[pin][1]}')\n",
    "                amount = float(input('Please provide amount to withdraw: '))\n",
    "                Bankrecords[pin][1] = Bankrecords[pin][1] - amount\n",
    "                print(f'Withdraw Successful \\nNew balance is: {Bankrecords[pin][1]}')\n",
    "            else:\n",
    "                Bankrecords[pin][1] = Bankrecords[pin][1] + amount\n",
    "                print(f'Insufficient Balance')\n",
    "            \n",
    "    elif operation == 3:\n",
    "        for key in Bankrecords:\n",
    "            if pin == key:\n",
    "                print(f'Available balnce is {Bankrecords[pin][1]}')\n",
    "                amount = float(input('please provide amount to transfer: '))\n",
    "                destination = input('provide destination account number: ')\n",
    "                Bankrecords[pin][1] = Bankrecords[pin][1] - amount\n",
    "                print(f'Transfer Succesful \\nNew balance is: {Bankrecords[pin][1]}')\n",
    "           \n",
    "            else:\n",
    "                print(f'Insufficient Balance')\n",
    "\n",
    "    elif operation == 4:\n",
    "        for key in Bankrecords:\n",
    "            if pin == key:\n",
    "                print(f'Available Balance is {Bankrecords[pin][1]}')\n",
    "                amount = float(input('Please provide amount of Airtime: '))\n",
    "                Network = input('Provide network of Airtime: ')\n",
    "                Bankrecords[pin][1] = Bankrecords[pin][1] - amount\n",
    "                print(f'Airtime Purchased Succesfully \\nNew balance is: {Bankrecords[pin][1]}')\n",
    "            \n",
    "    elif operation == 5:\n",
    "        for key in Bankrecords:\n",
    "            if pin == key:\n",
    "                Bankrecords[pin][1] = Bankrecords[pin][1]\n",
    "                print(f'Available Balance is {Bankrecords[pin][1]}')\n",
    "\n",
    "    x = input('Press Enter to continue or no to terminate: ')\n",
    "\n",
    "    counter =+ 1\n",
    "\n",
    "    \n",
    "\n"
   ]
  },
  {
   "cell_type": "code",
   "execution_count": 38,
   "id": "91de1d2e",
   "metadata": {},
   "outputs": [],
   "source": [
    "def postingsystem():\n",
    "    Name = input('Please provide your name: ')\n",
    "    Statecode =input('Please input your statecode: ')\n",
    "    Lga = input('Please provide your local government area: ')\n",
    "    \n",
    "    from random import datetime\n",
    "    \n",
    "    date = datetime.strptime('12/1/2022 8:00 AM' , '%m/%d/%Y %I:%M %p')\n",
    "    \n",
    "    import random_date\n",
    "    \n",
    "    if Statecode == '22A' and Lga == 'Wuse':\n",
    "        print(f'Your schedule date is : random_date(date)')\n",
    "    elif Statecode == '22A' and Lga == 'Wuse 2':\n",
    "        print(f'Your schedule date is : random_date(date)')\n",
    "    elif Statecode == '22A' and Lga == 'Garki':\n",
    "        print(f'Your schedule date is : random_date(date)')\n",
    "    elif Statecode == '22B' and Lga == 'Wuse':\n",
    "        print(f'Your schedule date is : random_date(date)')\n",
    "    elif Statecode == '22B' and Lga == 'Wuse 2':\n",
    "        print(f'Your schedule date is : random_date(date)')\n",
    "    elif Statecode == '22B' and Lga == 'Garki':\n",
    "        print(f'Your schedule date is : random_date(date)')\n",
    "    elif Statecode == '22C' and Lga == 'Wuse':\n",
    "        print(f'Your schedule date is : random_date(date)')\n",
    "    elif Statecode == '22C' and Lga == 'Wuse 2':\n",
    "        print(f'Your schedule date is : random_date(date)')\n",
    "    elif Statecode == '22C' and Lga == 'Garki':\n",
    "        print(f'Your schedule date is : random_date(date)')\n",
    "\n",
    "postingsystem()\n",
    "    \n",
    "    "
   ]
  },
  {
   "cell_type": "code",
   "execution_count": 10,
   "id": "a08febe5",
   "metadata": {},
   "outputs": [
    {
     "name": "stdout",
     "output_type": "stream",
     "text": [
      "Please insert your Atm card and click enter  Enter\n",
      "Please input your pin: 24409\n"
     ]
    },
    {
     "ename": "KeyboardInterrupt",
     "evalue": "Interrupted by user",
     "output_type": "error",
     "traceback": [
      "\u001b[1;31m---------------------------------------------------------------------------\u001b[0m",
      "\u001b[1;31mKeyboardInterrupt\u001b[0m                         Traceback (most recent call last)",
      "Input \u001b[1;32mIn [10]\u001b[0m, in \u001b[0;36m<cell line: 11>\u001b[1;34m()\u001b[0m\n\u001b[0;32m      9\u001b[0m x \u001b[38;5;241m=\u001b[39m \u001b[38;5;28minput\u001b[39m(\u001b[38;5;124m'\u001b[39m\u001b[38;5;124mPlease insert your Atm card and click enter  \u001b[39m\u001b[38;5;124m'\u001b[39m)\n\u001b[0;32m     11\u001b[0m \u001b[38;5;28;01mwhile\u001b[39;00m x \u001b[38;5;241m==\u001b[39m \u001b[38;5;124m'\u001b[39m\u001b[38;5;124mEnter\u001b[39m\u001b[38;5;124m'\u001b[39m:\n\u001b[1;32m---> 12\u001b[0m     pin \u001b[38;5;241m=\u001b[39m \u001b[38;5;28;43minput\u001b[39;49m\u001b[43m(\u001b[49m\u001b[38;5;124;43m'\u001b[39;49m\u001b[38;5;124;43mPlease input your pin: \u001b[39;49m\u001b[38;5;124;43m'\u001b[39;49m\u001b[43m)\u001b[49m\n",
      "File \u001b[1;32m~\\anaconda3\\lib\\site-packages\\ipykernel\\kernelbase.py:1075\u001b[0m, in \u001b[0;36mKernel.raw_input\u001b[1;34m(self, prompt)\u001b[0m\n\u001b[0;32m   1071\u001b[0m \u001b[38;5;28;01mif\u001b[39;00m \u001b[38;5;129;01mnot\u001b[39;00m \u001b[38;5;28mself\u001b[39m\u001b[38;5;241m.\u001b[39m_allow_stdin:\n\u001b[0;32m   1072\u001b[0m     \u001b[38;5;28;01mraise\u001b[39;00m StdinNotImplementedError(\n\u001b[0;32m   1073\u001b[0m         \u001b[38;5;124m\"\u001b[39m\u001b[38;5;124mraw_input was called, but this frontend does not support input requests.\u001b[39m\u001b[38;5;124m\"\u001b[39m\n\u001b[0;32m   1074\u001b[0m     )\n\u001b[1;32m-> 1075\u001b[0m \u001b[38;5;28;01mreturn\u001b[39;00m \u001b[38;5;28;43mself\u001b[39;49m\u001b[38;5;241;43m.\u001b[39;49m\u001b[43m_input_request\u001b[49m\u001b[43m(\u001b[49m\n\u001b[0;32m   1076\u001b[0m \u001b[43m    \u001b[49m\u001b[38;5;28;43mstr\u001b[39;49m\u001b[43m(\u001b[49m\u001b[43mprompt\u001b[49m\u001b[43m)\u001b[49m\u001b[43m,\u001b[49m\n\u001b[0;32m   1077\u001b[0m \u001b[43m    \u001b[49m\u001b[38;5;28;43mself\u001b[39;49m\u001b[38;5;241;43m.\u001b[39;49m\u001b[43m_parent_ident\u001b[49m\u001b[43m[\u001b[49m\u001b[38;5;124;43m\"\u001b[39;49m\u001b[38;5;124;43mshell\u001b[39;49m\u001b[38;5;124;43m\"\u001b[39;49m\u001b[43m]\u001b[49m\u001b[43m,\u001b[49m\n\u001b[0;32m   1078\u001b[0m \u001b[43m    \u001b[49m\u001b[38;5;28;43mself\u001b[39;49m\u001b[38;5;241;43m.\u001b[39;49m\u001b[43mget_parent\u001b[49m\u001b[43m(\u001b[49m\u001b[38;5;124;43m\"\u001b[39;49m\u001b[38;5;124;43mshell\u001b[39;49m\u001b[38;5;124;43m\"\u001b[39;49m\u001b[43m)\u001b[49m\u001b[43m,\u001b[49m\n\u001b[0;32m   1079\u001b[0m \u001b[43m    \u001b[49m\u001b[43mpassword\u001b[49m\u001b[38;5;241;43m=\u001b[39;49m\u001b[38;5;28;43;01mFalse\u001b[39;49;00m\u001b[43m,\u001b[49m\n\u001b[0;32m   1080\u001b[0m \u001b[43m\u001b[49m\u001b[43m)\u001b[49m\n",
      "File \u001b[1;32m~\\anaconda3\\lib\\site-packages\\ipykernel\\kernelbase.py:1120\u001b[0m, in \u001b[0;36mKernel._input_request\u001b[1;34m(self, prompt, ident, parent, password)\u001b[0m\n\u001b[0;32m   1117\u001b[0m             \u001b[38;5;28;01mbreak\u001b[39;00m\n\u001b[0;32m   1118\u001b[0m \u001b[38;5;28;01mexcept\u001b[39;00m \u001b[38;5;167;01mKeyboardInterrupt\u001b[39;00m:\n\u001b[0;32m   1119\u001b[0m     \u001b[38;5;66;03m# re-raise KeyboardInterrupt, to truncate traceback\u001b[39;00m\n\u001b[1;32m-> 1120\u001b[0m     \u001b[38;5;28;01mraise\u001b[39;00m \u001b[38;5;167;01mKeyboardInterrupt\u001b[39;00m(\u001b[38;5;124m\"\u001b[39m\u001b[38;5;124mInterrupted by user\u001b[39m\u001b[38;5;124m\"\u001b[39m) \u001b[38;5;28;01mfrom\u001b[39;00m \u001b[38;5;28mNone\u001b[39m\n\u001b[0;32m   1121\u001b[0m \u001b[38;5;28;01mexcept\u001b[39;00m \u001b[38;5;167;01mException\u001b[39;00m:\n\u001b[0;32m   1122\u001b[0m     \u001b[38;5;28mself\u001b[39m\u001b[38;5;241m.\u001b[39mlog\u001b[38;5;241m.\u001b[39mwarning(\u001b[38;5;124m\"\u001b[39m\u001b[38;5;124mInvalid Message:\u001b[39m\u001b[38;5;124m\"\u001b[39m, exc_info\u001b[38;5;241m=\u001b[39m\u001b[38;5;28;01mTrue\u001b[39;00m)\n",
      "\u001b[1;31mKeyboardInterrupt\u001b[0m: Interrupted by user"
     ]
    }
   ],
   "source": []
  },
  {
   "cell_type": "code",
   "execution_count": null,
   "id": "7d6deba1",
   "metadata": {},
   "outputs": [],
   "source": []
  }
 ],
 "metadata": {
  "kernelspec": {
   "display_name": "Python 3 (ipykernel)",
   "language": "python",
   "name": "python3"
  },
  "language_info": {
   "codemirror_mode": {
    "name": "ipython",
    "version": 3
   },
   "file_extension": ".py",
   "mimetype": "text/x-python",
   "name": "python",
   "nbconvert_exporter": "python",
   "pygments_lexer": "ipython3",
   "version": "3.9.12"
  }
 },
 "nbformat": 4,
 "nbformat_minor": 5
}
