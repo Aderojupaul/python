{
 "cells": [
  {
   "cell_type": "code",
   "execution_count": null,
   "id": "e2949015",
   "metadata": {},
   "outputs": [],
   "source": [
    "#Exercise\n",
    "\n",
    "#write a progam to generate a dice for two player, this dice will be rolled ten times, for each round write a condition to display the winner or a draw if playerone wins add 5point and if player two wins add 5point else add 2 point each and finally write a condition to display the over all winner\n",
    "\n",
    "# NOTE::: YOU ARE TO DEFINE A FUNCTION FOR THIS PROGRAM"
   ]
  },
  {
   "cell_type": "code",
   "execution_count": 6,
   "id": "6f0b9b6a",
   "metadata": {},
   "outputs": [
    {
     "name": "stdout",
     "output_type": "stream",
     "text": [
      "player one score::9\n",
      "player two score::10\n",
      "it is a draw\n",
      "\n",
      "\n",
      "it is a draw\n",
      "player one score::5\n",
      "player two score::7\n",
      "it is a draw\n",
      "\n",
      "\n",
      "it is a draw\n",
      "player one score::4\n",
      "player two score::6\n",
      "it is a draw\n",
      "\n",
      "\n",
      "it is a draw\n",
      "player one score::5\n",
      "player two score::7\n",
      "it is a draw\n",
      "\n",
      "\n",
      "it is a draw\n",
      "player one score::6\n",
      "player two score::9\n",
      "it is a draw\n",
      "\n",
      "\n",
      "it is a draw\n",
      "player one score::12\n",
      "player two score::2\n",
      "player one wins\n",
      "\n",
      "\n",
      "player one is the overall winner with a total point of 15\n",
      "player one score::6\n",
      "player two score::10\n",
      "it is a draw\n",
      "\n",
      "\n",
      "player one is the overall winner with a total point of 17\n",
      "player one score::8\n",
      "player two score::7\n",
      "player one wins\n",
      "\n",
      "\n",
      "player one is the overall winner with a total point of 22\n",
      "player one score::3\n",
      "player two score::8\n",
      "it is a draw\n",
      "\n",
      "\n",
      "player one is the overall winner with a total point of 24\n",
      "player one score::8\n",
      "player two score::11\n",
      "it is a draw\n",
      "\n",
      "\n",
      "player one is the overall winner with a total point of 26\n"
     ]
    }
   ],
   "source": [
    "def Diceroller():\n",
    "    import random\n",
    "    playeronescore = 0\n",
    "    playertwoscore = 0\n",
    "    for i in range(1,11):\n",
    "        dice1 = random.randint(1,6) + random.randint(1,6)\n",
    "        dice2 = random.randint(1,6) + random.randint(1,6)\n",
    "        if dice1 > dice2 :\n",
    "            print(f'player one score::{dice1}')\n",
    "            print(f'player two score::{dice2}')\n",
    "            print(f'player one wins')\n",
    "            playeronescore +=5\n",
    "            print('\\n')\n",
    "        elif dice1 > dice1 :\n",
    "            print(f'player one score::{dice1}')\n",
    "            print(f'player two score::{dice2}')\n",
    "            print(f'player two wins')\n",
    "            playertwocore +=5\n",
    "            print('\\n')\n",
    "        else:\n",
    "            print(f'player one score::{dice1}')\n",
    "            print(f'player two score::{dice2}')\n",
    "            print(f'it is a draw')\n",
    "            playeronescore +=2\n",
    "            playertwoscore +=2\n",
    "            print('\\n')\n",
    "        if playeronescore > playertwoscore:\n",
    "            print(f'player one is the overall winner with a total point of {playeronescore}')\n",
    "        elif  playertwoscore > playeronescore:\n",
    "            print(f'player two is the overall winner with a total point of {playertwoscore}')\n",
    "        else:\n",
    "            print('it is a draw')\n",
    "Diceroller()\n",
    "    \n",
    "    "
   ]
  },
  {
   "cell_type": "markdown",
   "id": "2f48c8e4",
   "metadata": {},
   "source": [
    "# ERROR HANDLING"
   ]
  },
  {
   "cell_type": "code",
   "execution_count": 7,
   "id": "a8bafe11",
   "metadata": {},
   "outputs": [
    {
     "name": "stdout",
     "output_type": "stream",
     "text": [
      "Enter first number: 45\n",
      "Enter second number: 45\n",
      "pick an operation[+,-,/,*]+\n",
      "45 + 45 = 90\n"
     ]
    }
   ],
   "source": [
    "try:\n",
    "    num1 = int(input('Enter first number: '))\n",
    "    num2 = int(input('Enter second number: '))\n",
    "    option = input('pick an operation[+,-,/,*]')\n",
    "    if option == '+':\n",
    "        print(f'{num1} + {num2} = {num1 + num2}')\n",
    "    elif option == '-':\n",
    "        print(f'{num1} - {num2} = {num1 - num2}')\n",
    "    elif option == '/':\n",
    "        print(f'{num1} / {num2} = {num1 / num2}')\n",
    "    elif option == '*':\n",
    "        print(f'{num1} * {num2} = {num1 * num2}')\n",
    "except:\n",
    "    print('You have encountered one or more error')"
   ]
  },
  {
   "cell_type": "code",
   "execution_count": 8,
   "id": "f3da3f63",
   "metadata": {},
   "outputs": [
    {
     "name": "stdout",
     "output_type": "stream",
     "text": [
      "Enter first number: 23\n",
      "Enter second number: 24\n",
      "pick an operation[+,-,/,*]*\n",
      "23 * 24 = 552\n",
      "480250763996501976790165756943041\n",
      "END OF PROGRAM\n"
     ]
    }
   ],
   "source": [
    "try:\n",
    "    num1 = int(input('Enter first number: '))\n",
    "    num2 = int(input('Enter second number: '))\n",
    "    option = input('pick an operation[+,-,/,*]')\n",
    "    if option == '+':\n",
    "        print(f'{num1} + {num2} = {num1 + num2}')\n",
    "    elif option == '-':\n",
    "        print(f'{num1} - {num2} = {num1 - num2}')\n",
    "    elif option == '/':\n",
    "        print(f'{num1} / {num2} = {num1 / num2}')\n",
    "    elif option == '*':\n",
    "        print(f'{num1} * {num2} = {num1 * num2}')\n",
    "except ValueError:\n",
    "    print('Sorry only whole numbers are expected')\n",
    "except ZeroDivisionError:\n",
    "    print('Sorry you cannot divide a number by zero')\n",
    "except:\n",
    "    print('You have encountered one or more error')\n",
    "else:\n",
    "    print(num1 ** num2)\n",
    "finally:\n",
    "    print('END OF PROGRAM')"
   ]
  },
  {
   "cell_type": "code",
   "execution_count": null,
   "id": "2ebb371e",
   "metadata": {},
   "outputs": [],
   "source": []
  }
 ],
 "metadata": {
  "kernelspec": {
   "display_name": "Python 3 (ipykernel)",
   "language": "python",
   "name": "python3"
  },
  "language_info": {
   "codemirror_mode": {
    "name": "ipython",
    "version": 3
   },
   "file_extension": ".py",
   "mimetype": "text/x-python",
   "name": "python",
   "nbconvert_exporter": "python",
   "pygments_lexer": "ipython3",
   "version": "3.9.12"
  }
 },
 "nbformat": 4,
 "nbformat_minor": 5
}
