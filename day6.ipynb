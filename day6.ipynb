{
 "cells": [
  {
   "cell_type": "markdown",
   "id": "ebb2fe4d",
   "metadata": {},
   "source": [
    "FUNCTIONS"
   ]
  },
  {
   "cell_type": "code",
   "execution_count": 8,
   "id": "03ed4e31",
   "metadata": {},
   "outputs": [
    {
     "name": "stdout",
     "output_type": "stream",
     "text": [
      "the output of n1 + n2 is 15\n"
     ]
    }
   ],
   "source": [
    "def add(): # A FUNCTION WITHOUT A PARAMETER\n",
    "    n1 = 5\n",
    "    n2 = 10\n",
    "    print(f'the output of n1 + n2 is {n1 + n2}')\n",
    "add()"
   ]
  },
  {
   "cell_type": "code",
   "execution_count": 12,
   "id": "21f9b8e8",
   "metadata": {},
   "outputs": [
    {
     "name": "stdout",
     "output_type": "stream",
     "text": [
      "the output of n1 + n2 is 143\n"
     ]
    }
   ],
   "source": [
    "def add(n1,n2): # A FUNCTION WITH A PARAMETER\n",
    "    print(f'the output of n1 + n2 is {n1 + n2}')\n",
    "add(55,88)\n",
    "    "
   ]
  },
  {
   "cell_type": "code",
   "execution_count": 23,
   "id": "68d39c2e",
   "metadata": {},
   "outputs": [
    {
     "name": "stdout",
     "output_type": "stream",
     "text": [
      "SHIPPING DETAILS\n",
      "DESTINATION: kano\n",
      "ITEM CONDITION: non-fragile\n",
      "ITEM WEIGHT:10\n",
      "    \n",
      "Your shipping fee is 2500\n"
     ]
    }
   ],
   "source": [
    "def shippingsystem(location,condition,weight = 10):\n",
    "    print(f'''SHIPPING DETAILS\n",
    "DESTINATION: {location}\n",
    "ITEM CONDITION: {condition}\n",
    "ITEM WEIGHT:{weight}\n",
    "    ''')\n",
    "    if weight <= 10 and condition == 'fragile':\n",
    "        print(f'Your shipping fee is {weight * 500}')\n",
    "    elif weight <= 10 and condition == 'non-fragile':\n",
    "        print(f'Your shipping fee is {weight * 250}')\n",
    "    elif weight > 10 and condition == 'fragile':\n",
    "        print(f'Your shipping fee is {weight * 1000}')\n",
    "    elif weight > 10 and condition == 'non-fragile':\n",
    "        print(f'Your shipping fee is {weight * 500}')\n",
    "shippingsystem('kano','non-fragile')\n",
    "              \n",
    "                "
   ]
  },
  {
   "cell_type": "code",
   "execution_count": 24,
   "id": "628823cd",
   "metadata": {},
   "outputs": [
    {
     "name": "stdout",
     "output_type": "stream",
     "text": [
      "SHIPPING DETAILS\n",
      "DESTINATION: Abuja\n",
      "ITEM CONDITION: fragile\n",
      "ITEM WEIGHT:80\n",
      "    \n",
      "Your shipping fee is 80000\n"
     ]
    }
   ],
   "source": [
    "shippingsystem('Abuja','fragile',80)"
   ]
  },
  {
   "cell_type": "code",
   "execution_count": 26,
   "id": "badb404f",
   "metadata": {},
   "outputs": [
    {
     "name": "stdout",
     "output_type": "stream",
     "text": [
      "<class 'tuple'>\n",
      "The average score of the following numbers (12, 58) is 35\n"
     ]
    }
   ],
   "source": [
    "def averagescore(*numbers):\n",
    "    print(type(numbers))\n",
    "    import statistics as stat\n",
    "    print(f'The average score of the following numbers {numbers} is {stat.mean(numbers)}')\n",
    "averagescore(12,58)"
   ]
  },
  {
   "cell_type": "code",
   "execution_count": 27,
   "id": "df36d8f8",
   "metadata": {},
   "outputs": [
    {
     "name": "stdout",
     "output_type": "stream",
     "text": [
      "<class 'tuple'>\n",
      "The average score of the following numbers (64, 86, 68, 80, 56, 64, 34, 98, 90, 45) is 68.5\n"
     ]
    }
   ],
   "source": [
    "averagescore(64,86,68,80,56,64,34,98,90,45)"
   ]
  },
  {
   "cell_type": "code",
   "execution_count": 38,
   "id": "644a7052",
   "metadata": {},
   "outputs": [],
   "source": [
    "import random\n",
    "outcome = []\n",
    "counter = 1\n",
    "while counter <= 50:\n",
    "    num = random.randint(60,85)\n",
    "    outcome.append(num)\n",
    "    counter +=1"
   ]
  },
  {
   "cell_type": "code",
   "execution_count": 39,
   "id": "8f3f24e3",
   "metadata": {},
   "outputs": [
    {
     "name": "stdout",
     "output_type": "stream",
     "text": [
      "50\n"
     ]
    }
   ],
   "source": [
    "print(len(outcome))"
   ]
  },
  {
   "cell_type": "code",
   "execution_count": 40,
   "id": "3f3a4900",
   "metadata": {},
   "outputs": [
    {
     "name": "stdout",
     "output_type": "stream",
     "text": [
      "[75, 60, 73, 83, 76, 82, 60, 73, 69, 73, 66, 76, 62, 64, 81, 69, 71, 74, 72, 68, 72, 62, 64, 69, 64, 69, 84, 85, 79, 82, 68, 72, 84, 68, 65, 74, 75, 75, 62, 80, 78, 79, 83, 83, 84, 67, 78, 60, 83, 73]\n"
     ]
    }
   ],
   "source": [
    "print(outcome)"
   ]
  },
  {
   "cell_type": "code",
   "execution_count": 41,
   "id": "4d2f9cf2",
   "metadata": {},
   "outputs": [
    {
     "name": "stdout",
     "output_type": "stream",
     "text": [
      "<class 'tuple'>\n",
      "The average score of the following numbers (75, 60, 73, 83, 76, 82, 60, 73, 69, 73, 66, 76, 62, 64, 81, 69, 71, 74, 72, 68, 72, 62, 64, 69, 64, 69, 84, 85, 79, 82, 68, 72, 84, 68, 65, 74, 75, 75, 62, 80, 78, 79, 83, 83, 84, 67, 78, 60, 83, 73) is 72.96\n"
     ]
    }
   ],
   "source": [
    "averagescore(*outcome)"
   ]
  },
  {
   "cell_type": "code",
   "execution_count": 53,
   "id": "8f25e47e",
   "metadata": {},
   "outputs": [
    {
     "name": "stdout",
     "output_type": "stream",
     "text": [
      "<class 'dict'>\n",
      "Name::: Paul\n",
      "Gender::: Male\n",
      "Age::: 15\n",
      "Height::: 1.98\n"
     ]
    }
   ],
   "source": [
    "def records(**details):\n",
    "    print(type(details))\n",
    "    for key,value in details.items():\n",
    "        print(f'{key}::: {value}')\n",
    "records(Name='Paul',Gender = 'Male',Age = 15,Height = 1.98)"
   ]
  },
  {
   "cell_type": "code",
   "execution_count": 55,
   "id": "6e48a365",
   "metadata": {},
   "outputs": [],
   "source": [
    "paddy = {\n",
    "    'child1':['Job','Male',30],\n",
    "    'child2':['Mary','Female',26],\n",
    "    'child3':['Hope','Female',22]\n",
    "}"
   ]
  },
  {
   "cell_type": "code",
   "execution_count": 56,
   "id": "9aa2b1e5",
   "metadata": {
    "scrolled": true
   },
   "outputs": [
    {
     "name": "stdout",
     "output_type": "stream",
     "text": [
      "<class 'dict'>\n",
      "child1::: ['Job', 'Male', 30]\n",
      "child2::: ['Mary', 'Female', 26]\n",
      "child3::: ['Hope', 'Female', 22]\n"
     ]
    }
   ],
   "source": [
    " records(**paddy)"
   ]
  },
  {
   "cell_type": "code",
   "execution_count": 57,
   "id": "e36fe506",
   "metadata": {},
   "outputs": [
    {
     "ename": "SyntaxError",
     "evalue": "invalid syntax (920766085.py, line 3)",
     "output_type": "error",
     "traceback": [
      "\u001b[1;36m  Input \u001b[1;32mIn [57]\u001b[1;36m\u001b[0m\n\u001b[1;33m    1. if gender is male and age is between 20 to 40\u001b[0m\n\u001b[1;37m                                            ^\u001b[0m\n\u001b[1;31mSyntaxError\u001b[0m\u001b[1;31m:\u001b[0m invalid syntax\n"
     ]
    }
   ],
   "source": [
    "#Exercise\n",
    "# Write a function to post a employer to any of this state ['oyo','delta','kano'] based on this conditions \n",
    "1. if gender is male and age is between 20 to 40\n",
    "2. if gender is female and married this person should remain at main office\n",
    "3. if gender is female and single and age is between 20 to 40 , any of the location and \n"
   ]
  },
  {
   "cell_type": "code",
   "execution_count": 61,
   "id": "fe27feec",
   "metadata": {},
   "outputs": [
    {
     "name": "stdout",
     "output_type": "stream",
     "text": [
      "employee gender: male\n",
      "employee age: 45\n",
      "employee marital status: single\n",
      "you are retained at the main office\n"
     ]
    }
   ],
   "source": [
    "def postingsystem():\n",
    "    location = ['oyo','delta','kano']\n",
    "    gender = input('employee gender: ')\n",
    "    age = float(input('employee age: '))\n",
    "    maritalstatus = input('employee marital status: ')\n",
    "    import random\n",
    "    if gender == 'male' and age >= 20 and age <= 40:\n",
    "        print(f'congratulations you have been posted to {random.choice(location)}')\n",
    "    elif gender == 'female' and maritalstatus == 'married':\n",
    "        print(f'you are retained at the main office')\n",
    "    elif gender == 'female' and maritalstatus == 'single' and age >= 20 and age <= 40:\n",
    "        printt(f'congratulations you have been posted to {random.choice(location)}')\n",
    "    elif age > 40:\n",
    "        print(f'you are retained at the main office')\n",
    "postingsystem()\n",
    "        \n",
    "        "
   ]
  },
  {
   "cell_type": "code",
   "execution_count": null,
   "id": "d951ed8b",
   "metadata": {},
   "outputs": [],
   "source": []
  }
 ],
 "metadata": {
  "kernelspec": {
   "display_name": "Python 3 (ipykernel)",
   "language": "python",
   "name": "python3"
  },
  "language_info": {
   "codemirror_mode": {
    "name": "ipython",
    "version": 3
   },
   "file_extension": ".py",
   "mimetype": "text/x-python",
   "name": "python",
   "nbconvert_exporter": "python",
   "pygments_lexer": "ipython3",
   "version": "3.9.12"
  }
 },
 "nbformat": 4,
 "nbformat_minor": 5
}
