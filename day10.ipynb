{
 "cells": [
  {
   "cell_type": "code",
   "execution_count": 57,
   "id": "4b4de537",
   "metadata": {},
   "outputs": [
    {
     "name": "stdout",
     "output_type": "stream",
     "text": [
      "PROVIDE NAME OF CELEBRANT : Paul Scholes\n",
      "BIRTHDAY DATE IS 10/10/1990\n"
     ]
    }
   ],
   "source": [
    "#EXERCISE\n",
    "\n",
    "#1.Create a dictionary (in your file) of names and birthdays. When you run your program it should ask the user to enter a name,and return the birthday of that person back to them\n",
    "\n",
    "#2. WRITE A PROGRAM TO PRINT MULTIPLICATION TABLE OF A GIVEN NUMBER\n",
    "\n",
    " \n",
    "filerecords = {\n",
    "    'Ade John': '31/10/1999',\n",
    "    'Sarah Lopez': '21/2/1992',\n",
    "    'May Silver' : '20/2/1996',\n",
    "    'Paul Scholes' : '10/10/1990',\n",
    "    'Naomi Cowbell' : '9/9/1980',\n",
    "    'Deborah Lewis' : '3/10/1998',\n",
    "    'Stephen John' : '15/12/1989',\n",
    "}\n",
    "name = input('PROVIDE NAME OF CELEBRANT : ')\n",
    "for key in filerecords:\n",
    "    if key == name:\n",
    "        print(f'BIRTHDAY DATE IS {filerecords[name]}')\n",
    "        break\n",
    "else:\n",
    "    print('Name not found')\n",
    "   "
   ]
  },
  {
   "cell_type": "code",
   "execution_count": 15,
   "id": "899e3d3e",
   "metadata": {},
   "outputs": [
    {
     "name": "stdout",
     "output_type": "stream",
     "text": [
      "Provide a number:45\n",
      "45 x 1 = 45\n",
      "45 x 2 = 90\n",
      "45 x 3 = 135\n",
      "45 x 4 = 180\n",
      "45 x 5 = 225\n",
      "45 x 6 = 270\n",
      "45 x 7 = 315\n",
      "45 x 8 = 360\n",
      "45 x 9 = 405\n",
      "45 x 10 = 450\n",
      "45 x 11 = 495\n",
      "45 x 12 = 540\n"
     ]
    }
   ],
   "source": [
    "number = int(input('Provide a number:'))\n",
    "for i in range(1,13):\n",
    "    print(f'{number} x {i} = {number * i}')"
   ]
  },
  {
   "cell_type": "code",
   "execution_count": 16,
   "id": "f971acc7",
   "metadata": {},
   "outputs": [
    {
     "name": "stdout",
     "output_type": "stream",
     "text": [
      "['MAXYEAR', 'MINYEAR', '__all__', '__builtins__', '__cached__', '__doc__', '__file__', '__loader__', '__name__', '__package__', '__spec__', 'date', 'datetime', 'datetime_CAPI', 'sys', 'time', 'timedelta', 'timezone', 'tzinfo']\n"
     ]
    }
   ],
   "source": [
    "import datetime\n",
    "print(dir(datetime))"
   ]
  },
  {
   "cell_type": "code",
   "execution_count": 43,
   "id": "dcd62a04",
   "metadata": {},
   "outputs": [],
   "source": [
    "date1 = datetime.date(2022,12,3)"
   ]
  },
  {
   "cell_type": "code",
   "execution_count": 44,
   "id": "ce5025f5",
   "metadata": {},
   "outputs": [
    {
     "name": "stdout",
     "output_type": "stream",
     "text": [
      "2022-12-03\n"
     ]
    }
   ],
   "source": [
    "print(date1)"
   ]
  },
  {
   "cell_type": "code",
   "execution_count": 45,
   "id": "127308c5",
   "metadata": {},
   "outputs": [
    {
     "data": {
      "text/plain": [
       "datetime.date"
      ]
     },
     "execution_count": 45,
     "metadata": {},
     "output_type": "execute_result"
    }
   ],
   "source": [
    "type(date1)"
   ]
  },
  {
   "cell_type": "code",
   "execution_count": 46,
   "id": "513dd5a8",
   "metadata": {},
   "outputs": [
    {
     "name": "stdout",
     "output_type": "stream",
     "text": [
      "2022\n",
      "12\n",
      "3\n",
      "5\n",
      "6\n"
     ]
    }
   ],
   "source": [
    "print(date1.year)\n",
    "print(date1.month)\n",
    "print(date1.day)\n",
    "print(date1.weekday())\n",
    "print(date1.isoweekday())\n"
   ]
  },
  {
   "cell_type": "code",
   "execution_count": 47,
   "id": "34d94461",
   "metadata": {},
   "outputs": [
    {
     "name": "stdout",
     "output_type": "stream",
     "text": [
      "2022-12-03\n"
     ]
    }
   ],
   "source": [
    "currentdate = datetime.date.today()\n",
    "print(currentdate)"
   ]
  },
  {
   "cell_type": "code",
   "execution_count": 48,
   "id": "67c071e2",
   "metadata": {},
   "outputs": [
    {
     "data": {
      "text/plain": [
       "'03 December, 2022'"
      ]
     },
     "execution_count": 48,
     "metadata": {},
     "output_type": "execute_result"
    }
   ],
   "source": [
    "# strftime: This is used for the modification of date and time\n",
    "currentdate.strftime('%d %B, %Y')"
   ]
  },
  {
   "cell_type": "code",
   "execution_count": 49,
   "id": "7835e420",
   "metadata": {},
   "outputs": [
    {
     "name": "stdout",
     "output_type": "stream",
     "text": [
      "17:27:53.748334\n"
     ]
    }
   ],
   "source": [
    "currenttime = datetime.datetime.now().time()\n",
    "print(currenttime)"
   ]
  },
  {
   "cell_type": "code",
   "execution_count": 50,
   "id": "3d0f7f22",
   "metadata": {},
   "outputs": [
    {
     "data": {
      "text/plain": [
       "'05:27 PM'"
      ]
     },
     "execution_count": 50,
     "metadata": {},
     "output_type": "execute_result"
    }
   ],
   "source": [
    "currenttime.strftime('%I:%M %p')"
   ]
  },
  {
   "cell_type": "code",
   "execution_count": 51,
   "id": "7df9a777",
   "metadata": {},
   "outputs": [],
   "source": [
    "curent_date_time = datetime.datetime.now()"
   ]
  },
  {
   "cell_type": "code",
   "execution_count": 52,
   "id": "0ca46916",
   "metadata": {},
   "outputs": [
    {
     "data": {
      "text/plain": [
       "'Sat Dec  3 17:27:55 2022'"
      ]
     },
     "execution_count": 52,
     "metadata": {},
     "output_type": "execute_result"
    }
   ],
   "source": [
    "curent_date_time.strftime('%c')"
   ]
  },
  {
   "cell_type": "code",
   "execution_count": 53,
   "id": "4e73947e",
   "metadata": {},
   "outputs": [
    {
     "name": "stdout",
     "output_type": "stream",
     "text": [
      "Enter your date in this format (mm/dd/yy)12/03/2022\n",
      "2022-12-03\n"
     ]
    }
   ],
   "source": [
    "# strptime: This is used to convert an input date to datetime format\n",
    "date2 = input('Enter your date in this format (mm/dd/yy)')\n",
    "condate = datetime.datetime.strptime(date2,'%m/%d/%Y').date()\n",
    "print(condate)"
   ]
  },
  {
   "cell_type": "code",
   "execution_count": 54,
   "id": "647d4ccf",
   "metadata": {},
   "outputs": [
    {
     "data": {
      "text/plain": [
       "datetime.timedelta(0)"
      ]
     },
     "execution_count": 54,
     "metadata": {},
     "output_type": "execute_result"
    }
   ],
   "source": [
    "currentdate - date1"
   ]
  },
  {
   "cell_type": "code",
   "execution_count": 56,
   "id": "0562d3bc",
   "metadata": {},
   "outputs": [
    {
     "data": {
      "text/plain": [
       "datetime.datetime(2022, 12, 3, 23, 1, 15, 283234)"
      ]
     },
     "execution_count": 56,
     "metadata": {},
     "output_type": "execute_result"
    }
   ],
   "source": [
    "curent_date_time + datetime.timedelta(seconds = 20000)"
   ]
  },
  {
   "cell_type": "code",
   "execution_count": 62,
   "id": "485719f6",
   "metadata": {},
   "outputs": [
    {
     "name": "stdout",
     "output_type": "stream",
     "text": [
      "Enter your name: Ayomide\n",
      "Enter your date in this format (dd/mm/yy):07/03/2023\n",
      "Dear Ayomide, you have 13 weeks and 3 days until your appointment\n"
     ]
    }
   ],
   "source": [
    "# ask  a user for his or her name and appointment date and calculate \\n \n",
    "# how many weeks and days until his or her given appointment date \\n\n",
    "\n",
    "\n",
    "name = input('Enter your name: ')\n",
    "strappdate = input('Enter your date in this format (dd/mm/yy):')\n",
    "appdate = datetime.datetime.strptime(strappdate, '%d/%m/%Y').date()\n",
    "currentdate = datetime.date.today()\n",
    "diff = appdate - currentdate\n",
    "trnweeks = diff.days // 7\n",
    "trndays = diff.days % 7\n",
    "print(f'Dear {name}, you have {trnweeks} weeks and {trndays} days until your appointment')"
   ]
  },
  {
   "cell_type": "code",
   "execution_count": null,
   "id": "99c8e06f",
   "metadata": {},
   "outputs": [],
   "source": []
  }
 ],
 "metadata": {
  "kernelspec": {
   "display_name": "Python 3 (ipykernel)",
   "language": "python",
   "name": "python3"
  },
  "language_info": {
   "codemirror_mode": {
    "name": "ipython",
    "version": 3
   },
   "file_extension": ".py",
   "mimetype": "text/x-python",
   "name": "python",
   "nbconvert_exporter": "python",
   "pygments_lexer": "ipython3",
   "version": "3.9.12"
  }
 },
 "nbformat": 4,
 "nbformat_minor": 5
}
