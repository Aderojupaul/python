{
 "cells": [
  {
   "cell_type": "markdown",
   "id": "421540e2",
   "metadata": {},
   "source": [
    "# EXERCISE\n",
    "# 1.WRITE A PYTHON PROGRAM TO FIND THOSE NUMBERS WHICH ARE DIVISIBLE BY 7 AND 5 BETWEEN 1500 AND 2700 (BOTH INCLUDED)\n",
    "# 2. WRITE A PYTHON PROGRAM TO COUNT THE NUMBER OF EVEN AND ODD NUMBER IN THE GIVEN SERIES (1,2,8,9,6,4,7,8,10,11,12,15,14,18)\n",
    "# 3. WRITE A PYTHON PROGRAM THAT ACCEPT A STRING AND CALCULATE THE NUMBER OF DIGIT AND LETTERS\n",
    "# 4. WRITE A PYTHON GROGRAM TO CHECK THE VALIDITY OF A PASSWORD BASED ON THE FOLLOWING REQUIREMENT I. ATLEAST A UPPER AND A LOWER CASE LETTER II. A DIGIT, III. ANY OF THIS CHARACTER[$@#] IV. MINIMUM LENGTH OF EIGHT V. MAXIMUM LENGHT OF 16"
   ]
  },
  {
   "cell_type": "code",
   "execution_count": null,
   "id": "52be1b75",
   "metadata": {},
   "outputs": [],
   "source": []
  },
  {
   "cell_type": "code",
   "execution_count": 9,
   "id": "125e6dc8",
   "metadata": {},
   "outputs": [
    {
     "name": "stdout",
     "output_type": "stream",
     "text": [
      "1505,1540,1575,1610,1645,1680,1715,1750,1785,1820,1855,1890,1925,1960,1995,2030,2065,2100,2135,2170,2205,2240,2275,2310,2345,2380,2415,2450,2485,2520,2555,2590,2625,2660,2695\n"
     ]
    }
   ],
   "source": [
    "output = []\n",
    "for x in range(1500,2700):\n",
    "    if(x % 7 ==0) and (x % 5 ==0):\n",
    "        output.append(str(x))\n",
    "print(','.join(output))"
   ]
  },
  {
   "cell_type": "code",
   "execution_count": 18,
   "id": "ab553676",
   "metadata": {},
   "outputs": [
    {
     "name": "stdout",
     "output_type": "stream",
     "text": [
      "Numbers of even numbers: 9\n",
      "Numbers of even numbers: 9\n"
     ]
    }
   ],
   "source": [
    "numbers = (1,2,8,9,6,4,7,8,10,11,12,15,14,18)\n",
    "countodd = 0\n",
    "counteven = 0\n",
    "for x in numbers:\n",
    "    if not x % 2:\n",
    "        counteven +=1\n",
    "    else:\n",
    "        countodd +=1\n",
    "print('Numbers of even numbers:', counteven)\n",
    "print('Numbers of even numbers:', counteven)"
   ]
  },
  {
   "cell_type": "code",
   "execution_count": null,
   "id": "7900e9d8",
   "metadata": {},
   "outputs": [],
   "source": []
  },
  {
   "cell_type": "code",
   "execution_count": 20,
   "id": "baa8b4db",
   "metadata": {},
   "outputs": [
    {
     "name": "stdout",
     "output_type": "stream",
     "text": [
      "INPUT A STRING:aderojuayomide12345678910\n",
      "Letters : 14\n",
      "Digit : 11\n"
     ]
    }
   ],
   "source": [
    "string = input('INPUT A STRING:')\n",
    "digit = 0\n",
    "letter = 0\n",
    "for x in string:\n",
    "    if x.isdigit():\n",
    "        digit +=1\n",
    "    elif x.isalpha():\n",
    "        letter +=1\n",
    "else:\n",
    "    pass\n",
    "print('Letters :', letter)\n",
    "print('Digit :', digit)"
   ]
  },
  {
   "cell_type": "code",
   "execution_count": 26,
   "id": "5b26ecb1",
   "metadata": {},
   "outputs": [
    {
     "name": "stdout",
     "output_type": "stream",
     "text": [
      "Input your password:Temilade1@\n",
      "Valid Password\n"
     ]
    }
   ],
   "source": [
    "import re\n",
    "password = input('Input your password:')\n",
    "x = True\n",
    "while x:\n",
    "    if (len(password) <8 or len(password)>16):\n",
    "        break\n",
    "    elif not re.search('[a-z]',password):\n",
    "        break\n",
    "    elif not re.search('[A-Z]',password):\n",
    "        break\n",
    "    elif not re.sea(rch('[0-9]',password):\n",
    "        break\n",
    "    elif not re.search('[$#@]',password):\n",
    "        break\n",
    "    elif re.search('\\s',password):\n",
    "        break\n",
    "    else:\n",
    "        print('Valid Password')\n",
    "        x=False\n",
    "        break\n",
    "if x:\n",
    "    print('Not a valid password')\n",
    "    "
   ]
  },
  {
   "cell_type": "markdown",
   "id": "1fd88a9f",
   "metadata": {},
   "source": [
    "# LAMBDA FUNCTION(ANONYMOUS FUNCTION)"
   ]
  },
  {
   "cell_type": "code",
   "execution_count": 28,
   "id": "6135fea0",
   "metadata": {},
   "outputs": [
    {
     "data": {
      "text/plain": [
       "186"
      ]
     },
     "execution_count": 28,
     "metadata": {},
     "output_type": "execute_result"
    }
   ],
   "source": [
    "(lambda x,y,z: x + y + z)(45,65,76)"
   ]
  },
  {
   "cell_type": "code",
   "execution_count": 29,
   "id": "012fa4d6",
   "metadata": {},
   "outputs": [
    {
     "name": "stdout",
     "output_type": "stream",
     "text": [
      "provide your passwordTemilade1\n"
     ]
    },
    {
     "data": {
      "text/plain": [
       "'valid password'"
      ]
     },
     "execution_count": 29,
     "metadata": {},
     "output_type": "execute_result"
    }
   ],
   "source": [
    "(lambda userpassword: 'valid password' if len(userpassword) >=8 else 'invalid password')(input('provide your password'))"
   ]
  },
  {
   "cell_type": "code",
   "execution_count": 30,
   "id": "3034f12d",
   "metadata": {},
   "outputs": [
    {
     "name": "stdout",
     "output_type": "stream",
     "text": [
      "['BINGO', 'BATTY', 'ROCKY', 'BECKY', 'SPACKY']\n"
     ]
    }
   ],
   "source": [
    "dognames = ['bingo','batty','rocky','becky','spacky']\n",
    "updatedognames = list(map(lambda x: x.upper(),dognames))\n",
    "print(updatedognames)"
   ]
  },
  {
   "cell_type": "code",
   "execution_count": 31,
   "id": "4ff2dce7",
   "metadata": {},
   "outputs": [
    {
     "name": "stdout",
     "output_type": "stream",
     "text": [
      "[1.0, 1.4142135623730951, 2.8284271247461903, 3.0, 2.449489742783178, 2.0, 2.6457513110645907, 2.8284271247461903, 3.1622776601683795, 3.3166247903554, 3.4641016151377544, 3.872983346207417, 3.7416573867739413, 4.242640687119285]\n"
     ]
    }
   ],
   "source": [
    "import math\n",
    "unumbers = list(map(lambda x: math.sqrt(x),numbers))\n",
    "print(unumbers)"
   ]
  },
  {
   "cell_type": "code",
   "execution_count": 32,
   "id": "0a4ccfda",
   "metadata": {},
   "outputs": [
    {
     "name": "stdout",
     "output_type": "stream",
     "text": [
      "[1, 9, 7, 11, 15]\n"
     ]
    }
   ],
   "source": [
    "odd = list(filter(lambda x: x % 2 == 1, numbers))\n",
    "print(odd)"
   ]
  },
  {
   "cell_type": "code",
   "execution_count": 33,
   "id": "2c0c517e",
   "metadata": {},
   "outputs": [
    {
     "name": "stdout",
     "output_type": "stream",
     "text": [
      "[2, 8, 6, 4, 8, 10, 12, 14, 18]\n"
     ]
    }
   ],
   "source": [
    "even = list(filter(lambda x: x % 2 == 0, numbers))\n",
    "print(even)"
   ]
  },
  {
   "cell_type": "code",
   "execution_count": null,
   "id": "8d39eb2c",
   "metadata": {},
   "outputs": [],
   "source": []
  }
 ],
 "metadata": {
  "kernelspec": {
   "display_name": "Python 3 (ipykernel)",
   "language": "python",
   "name": "python3"
  },
  "language_info": {
   "codemirror_mode": {
    "name": "ipython",
    "version": 3
   },
   "file_extension": ".py",
   "mimetype": "text/x-python",
   "name": "python",
   "nbconvert_exporter": "python",
   "pygments_lexer": "ipython3",
   "version": "3.9.12"
  }
 },
 "nbformat": 4,
 "nbformat_minor": 5
}
